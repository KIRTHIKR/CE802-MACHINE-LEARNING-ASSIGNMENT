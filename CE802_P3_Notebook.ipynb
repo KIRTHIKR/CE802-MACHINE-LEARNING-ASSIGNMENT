{
  "nbformat": 4,
  "nbformat_minor": 0,
  "metadata": {
    "colab": {
      "provenance": []
    },
    "kernelspec": {
      "name": "python3",
      "display_name": "Python 3"
    },
    "language_info": {
      "name": "python"
    }
  },
  "cells": [
    {
      "cell_type": "code",
      "execution_count": 2,
      "metadata": {
        "id": "32AN3R_otyBF"
      },
      "outputs": [],
      "source": [
        "import numpy as np\n",
        "import pandas as pd\n",
        "import matplotlib.pyplot as plt\n",
        "import seaborn as sns"
      ]
    },
    {
      "cell_type": "code",
      "source": [
        "# Reading the dataset into a dataframe df_p3\n",
        "data_p3=pd.read_csv(\"/content/CE802_P3_Data.csv\")"
      ],
      "metadata": {
        "id": "MjRQz_t5uOXY"
      },
      "execution_count": 3,
      "outputs": []
    },
    {
      "cell_type": "code",
      "source": [
        "# Displaying the first six rows of the dataframe\n",
        "data_p3.head()"
      ],
      "metadata": {
        "colab": {
          "base_uri": "https://localhost:8080/",
          "height": 351
        },
        "id": "w0axeRJyuOa8",
        "outputId": "7ae79f76-93eb-4979-e5d4-dbdb2b5f8db8"
      },
      "execution_count": 4,
      "outputs": [
        {
          "output_type": "execute_result",
          "data": {
            "text/plain": [
              "      F1      F2       F3     F4       F5      F6       F7       F8     F9  \\\n",
              "0  17.58   98.59  1879.44   0.29   389.90  Europe -1651.25     8.84 -25.90   \n",
              "1  -2.48   97.97  1622.75   4.78  -876.02    Rest -1403.87  -877.44 -29.20   \n",
              "2   3.98  118.94  3050.01   0.53    76.62  Europe -1730.32   -46.74 -39.30   \n",
              "3   5.88  147.61  1844.40   0.81  -929.74  Europe -1427.05   581.78 -28.88   \n",
              "4 -20.16  107.74  1860.04  18.01  2113.90    Rest -1335.50 -1171.70 -27.06   \n",
              "\n",
              "         F10  ...    F26    F27    F28       F29      F30    F31     F32  \\\n",
              "0   Very low  ...  46.32  64.11 -21.84  51656.67   530.32   5.79  -49.94   \n",
              "1       High  ...  68.64  58.14 -17.10  66581.28   474.36   5.13 -154.02   \n",
              "2  Very high  ...  44.19  80.55 -20.28  55418.91   650.25   2.16 -139.38   \n",
              "3   Very low  ...  55.80  43.95 -18.00  56585.52  1348.02   1.98 -125.06   \n",
              "4     Medium  ...  40.80  70.59 -25.28  45502.59   773.48  23.91 -230.22   \n",
              "\n",
              "       F33    F34  Target  \n",
              "0   287.97  24.91   -8.93  \n",
              "1 -1403.97  24.58   21.90  \n",
              "2   -46.92  -1.00   56.20  \n",
              "3  -958.44   8.50   -8.93  \n",
              "4   966.87   9.71   -8.93  \n",
              "\n",
              "[5 rows x 35 columns]"
            ],
            "text/html": [
              "\n",
              "  <div id=\"df-3624d9fe-2c78-4f96-9491-686247f464b2\">\n",
              "    <div class=\"colab-df-container\">\n",
              "      <div>\n",
              "<style scoped>\n",
              "    .dataframe tbody tr th:only-of-type {\n",
              "        vertical-align: middle;\n",
              "    }\n",
              "\n",
              "    .dataframe tbody tr th {\n",
              "        vertical-align: top;\n",
              "    }\n",
              "\n",
              "    .dataframe thead th {\n",
              "        text-align: right;\n",
              "    }\n",
              "</style>\n",
              "<table border=\"1\" class=\"dataframe\">\n",
              "  <thead>\n",
              "    <tr style=\"text-align: right;\">\n",
              "      <th></th>\n",
              "      <th>F1</th>\n",
              "      <th>F2</th>\n",
              "      <th>F3</th>\n",
              "      <th>F4</th>\n",
              "      <th>F5</th>\n",
              "      <th>F6</th>\n",
              "      <th>F7</th>\n",
              "      <th>F8</th>\n",
              "      <th>F9</th>\n",
              "      <th>F10</th>\n",
              "      <th>...</th>\n",
              "      <th>F26</th>\n",
              "      <th>F27</th>\n",
              "      <th>F28</th>\n",
              "      <th>F29</th>\n",
              "      <th>F30</th>\n",
              "      <th>F31</th>\n",
              "      <th>F32</th>\n",
              "      <th>F33</th>\n",
              "      <th>F34</th>\n",
              "      <th>Target</th>\n",
              "    </tr>\n",
              "  </thead>\n",
              "  <tbody>\n",
              "    <tr>\n",
              "      <th>0</th>\n",
              "      <td>17.58</td>\n",
              "      <td>98.59</td>\n",
              "      <td>1879.44</td>\n",
              "      <td>0.29</td>\n",
              "      <td>389.90</td>\n",
              "      <td>Europe</td>\n",
              "      <td>-1651.25</td>\n",
              "      <td>8.84</td>\n",
              "      <td>-25.90</td>\n",
              "      <td>Very low</td>\n",
              "      <td>...</td>\n",
              "      <td>46.32</td>\n",
              "      <td>64.11</td>\n",
              "      <td>-21.84</td>\n",
              "      <td>51656.67</td>\n",
              "      <td>530.32</td>\n",
              "      <td>5.79</td>\n",
              "      <td>-49.94</td>\n",
              "      <td>287.97</td>\n",
              "      <td>24.91</td>\n",
              "      <td>-8.93</td>\n",
              "    </tr>\n",
              "    <tr>\n",
              "      <th>1</th>\n",
              "      <td>-2.48</td>\n",
              "      <td>97.97</td>\n",
              "      <td>1622.75</td>\n",
              "      <td>4.78</td>\n",
              "      <td>-876.02</td>\n",
              "      <td>Rest</td>\n",
              "      <td>-1403.87</td>\n",
              "      <td>-877.44</td>\n",
              "      <td>-29.20</td>\n",
              "      <td>High</td>\n",
              "      <td>...</td>\n",
              "      <td>68.64</td>\n",
              "      <td>58.14</td>\n",
              "      <td>-17.10</td>\n",
              "      <td>66581.28</td>\n",
              "      <td>474.36</td>\n",
              "      <td>5.13</td>\n",
              "      <td>-154.02</td>\n",
              "      <td>-1403.97</td>\n",
              "      <td>24.58</td>\n",
              "      <td>21.90</td>\n",
              "    </tr>\n",
              "    <tr>\n",
              "      <th>2</th>\n",
              "      <td>3.98</td>\n",
              "      <td>118.94</td>\n",
              "      <td>3050.01</td>\n",
              "      <td>0.53</td>\n",
              "      <td>76.62</td>\n",
              "      <td>Europe</td>\n",
              "      <td>-1730.32</td>\n",
              "      <td>-46.74</td>\n",
              "      <td>-39.30</td>\n",
              "      <td>Very high</td>\n",
              "      <td>...</td>\n",
              "      <td>44.19</td>\n",
              "      <td>80.55</td>\n",
              "      <td>-20.28</td>\n",
              "      <td>55418.91</td>\n",
              "      <td>650.25</td>\n",
              "      <td>2.16</td>\n",
              "      <td>-139.38</td>\n",
              "      <td>-46.92</td>\n",
              "      <td>-1.00</td>\n",
              "      <td>56.20</td>\n",
              "    </tr>\n",
              "    <tr>\n",
              "      <th>3</th>\n",
              "      <td>5.88</td>\n",
              "      <td>147.61</td>\n",
              "      <td>1844.40</td>\n",
              "      <td>0.81</td>\n",
              "      <td>-929.74</td>\n",
              "      <td>Europe</td>\n",
              "      <td>-1427.05</td>\n",
              "      <td>581.78</td>\n",
              "      <td>-28.88</td>\n",
              "      <td>Very low</td>\n",
              "      <td>...</td>\n",
              "      <td>55.80</td>\n",
              "      <td>43.95</td>\n",
              "      <td>-18.00</td>\n",
              "      <td>56585.52</td>\n",
              "      <td>1348.02</td>\n",
              "      <td>1.98</td>\n",
              "      <td>-125.06</td>\n",
              "      <td>-958.44</td>\n",
              "      <td>8.50</td>\n",
              "      <td>-8.93</td>\n",
              "    </tr>\n",
              "    <tr>\n",
              "      <th>4</th>\n",
              "      <td>-20.16</td>\n",
              "      <td>107.74</td>\n",
              "      <td>1860.04</td>\n",
              "      <td>18.01</td>\n",
              "      <td>2113.90</td>\n",
              "      <td>Rest</td>\n",
              "      <td>-1335.50</td>\n",
              "      <td>-1171.70</td>\n",
              "      <td>-27.06</td>\n",
              "      <td>Medium</td>\n",
              "      <td>...</td>\n",
              "      <td>40.80</td>\n",
              "      <td>70.59</td>\n",
              "      <td>-25.28</td>\n",
              "      <td>45502.59</td>\n",
              "      <td>773.48</td>\n",
              "      <td>23.91</td>\n",
              "      <td>-230.22</td>\n",
              "      <td>966.87</td>\n",
              "      <td>9.71</td>\n",
              "      <td>-8.93</td>\n",
              "    </tr>\n",
              "  </tbody>\n",
              "</table>\n",
              "<p>5 rows × 35 columns</p>\n",
              "</div>\n",
              "      <button class=\"colab-df-convert\" onclick=\"convertToInteractive('df-3624d9fe-2c78-4f96-9491-686247f464b2')\"\n",
              "              title=\"Convert this dataframe to an interactive table.\"\n",
              "              style=\"display:none;\">\n",
              "        \n",
              "  <svg xmlns=\"http://www.w3.org/2000/svg\" height=\"24px\"viewBox=\"0 0 24 24\"\n",
              "       width=\"24px\">\n",
              "    <path d=\"M0 0h24v24H0V0z\" fill=\"none\"/>\n",
              "    <path d=\"M18.56 5.44l.94 2.06.94-2.06 2.06-.94-2.06-.94-.94-2.06-.94 2.06-2.06.94zm-11 1L8.5 8.5l.94-2.06 2.06-.94-2.06-.94L8.5 2.5l-.94 2.06-2.06.94zm10 10l.94 2.06.94-2.06 2.06-.94-2.06-.94-.94-2.06-.94 2.06-2.06.94z\"/><path d=\"M17.41 7.96l-1.37-1.37c-.4-.4-.92-.59-1.43-.59-.52 0-1.04.2-1.43.59L10.3 9.45l-7.72 7.72c-.78.78-.78 2.05 0 2.83L4 21.41c.39.39.9.59 1.41.59.51 0 1.02-.2 1.41-.59l7.78-7.78 2.81-2.81c.8-.78.8-2.07 0-2.86zM5.41 20L4 18.59l7.72-7.72 1.47 1.35L5.41 20z\"/>\n",
              "  </svg>\n",
              "      </button>\n",
              "      \n",
              "  <style>\n",
              "    .colab-df-container {\n",
              "      display:flex;\n",
              "      flex-wrap:wrap;\n",
              "      gap: 12px;\n",
              "    }\n",
              "\n",
              "    .colab-df-convert {\n",
              "      background-color: #E8F0FE;\n",
              "      border: none;\n",
              "      border-radius: 50%;\n",
              "      cursor: pointer;\n",
              "      display: none;\n",
              "      fill: #1967D2;\n",
              "      height: 32px;\n",
              "      padding: 0 0 0 0;\n",
              "      width: 32px;\n",
              "    }\n",
              "\n",
              "    .colab-df-convert:hover {\n",
              "      background-color: #E2EBFA;\n",
              "      box-shadow: 0px 1px 2px rgba(60, 64, 67, 0.3), 0px 1px 3px 1px rgba(60, 64, 67, 0.15);\n",
              "      fill: #174EA6;\n",
              "    }\n",
              "\n",
              "    [theme=dark] .colab-df-convert {\n",
              "      background-color: #3B4455;\n",
              "      fill: #D2E3FC;\n",
              "    }\n",
              "\n",
              "    [theme=dark] .colab-df-convert:hover {\n",
              "      background-color: #434B5C;\n",
              "      box-shadow: 0px 1px 3px 1px rgba(0, 0, 0, 0.15);\n",
              "      filter: drop-shadow(0px 1px 2px rgba(0, 0, 0, 0.3));\n",
              "      fill: #FFFFFF;\n",
              "    }\n",
              "  </style>\n",
              "\n",
              "      <script>\n",
              "        const buttonEl =\n",
              "          document.querySelector('#df-3624d9fe-2c78-4f96-9491-686247f464b2 button.colab-df-convert');\n",
              "        buttonEl.style.display =\n",
              "          google.colab.kernel.accessAllowed ? 'block' : 'none';\n",
              "\n",
              "        async function convertToInteractive(key) {\n",
              "          const element = document.querySelector('#df-3624d9fe-2c78-4f96-9491-686247f464b2');\n",
              "          const dataTable =\n",
              "            await google.colab.kernel.invokeFunction('convertToInteractive',\n",
              "                                                     [key], {});\n",
              "          if (!dataTable) return;\n",
              "\n",
              "          const docLinkHtml = 'Like what you see? Visit the ' +\n",
              "            '<a target=\"_blank\" href=https://colab.research.google.com/notebooks/data_table.ipynb>data table notebook</a>'\n",
              "            + ' to learn more about interactive tables.';\n",
              "          element.innerHTML = '';\n",
              "          dataTable['output_type'] = 'display_data';\n",
              "          await google.colab.output.renderOutput(dataTable, element);\n",
              "          const docLink = document.createElement('div');\n",
              "          docLink.innerHTML = docLinkHtml;\n",
              "          element.appendChild(docLink);\n",
              "        }\n",
              "      </script>\n",
              "    </div>\n",
              "  </div>\n",
              "  "
            ]
          },
          "metadata": {},
          "execution_count": 4
        }
      ]
    },
    {
      "cell_type": "code",
      "source": [
        "# Finding the datatypes of all the features\n",
        "data_p3.dtypes"
      ],
      "metadata": {
        "colab": {
          "base_uri": "https://localhost:8080/"
        },
        "id": "zk431K8suOdz",
        "outputId": "e5e7f177-753f-4428-f0e5-9ea7608b4265"
      },
      "execution_count": 5,
      "outputs": [
        {
          "output_type": "execute_result",
          "data": {
            "text/plain": [
              "F1        float64\n",
              "F2        float64\n",
              "F3        float64\n",
              "F4        float64\n",
              "F5        float64\n",
              "F6         object\n",
              "F7        float64\n",
              "F8        float64\n",
              "F9        float64\n",
              "F10        object\n",
              "F11       float64\n",
              "F12       float64\n",
              "F13       float64\n",
              "F14       float64\n",
              "F15       float64\n",
              "F16       float64\n",
              "F17         int64\n",
              "F18       float64\n",
              "F19       float64\n",
              "F20       float64\n",
              "F21         int64\n",
              "F22       float64\n",
              "F23       float64\n",
              "F24       float64\n",
              "F25       float64\n",
              "F26       float64\n",
              "F27       float64\n",
              "F28       float64\n",
              "F29       float64\n",
              "F30       float64\n",
              "F31       float64\n",
              "F32       float64\n",
              "F33       float64\n",
              "F34       float64\n",
              "Target    float64\n",
              "dtype: object"
            ]
          },
          "metadata": {},
          "execution_count": 5
        }
      ]
    },
    {
      "cell_type": "code",
      "source": [
        "data_p3.info()"
      ],
      "metadata": {
        "colab": {
          "base_uri": "https://localhost:8080/"
        },
        "id": "YE5fFob3uOga",
        "outputId": "0471e541-6e54-4134-f046-37cdc669c6a2"
      },
      "execution_count": 6,
      "outputs": [
        {
          "output_type": "stream",
          "name": "stdout",
          "text": [
            "<class 'pandas.core.frame.DataFrame'>\n",
            "RangeIndex: 1400 entries, 0 to 1399\n",
            "Data columns (total 35 columns):\n",
            " #   Column  Non-Null Count  Dtype  \n",
            "---  ------  --------------  -----  \n",
            " 0   F1      1400 non-null   float64\n",
            " 1   F2      1400 non-null   float64\n",
            " 2   F3      1400 non-null   float64\n",
            " 3   F4      1400 non-null   float64\n",
            " 4   F5      1400 non-null   float64\n",
            " 5   F6      1400 non-null   object \n",
            " 6   F7      1400 non-null   float64\n",
            " 7   F8      1400 non-null   float64\n",
            " 8   F9      1400 non-null   float64\n",
            " 9   F10     1400 non-null   object \n",
            " 10  F11     1400 non-null   float64\n",
            " 11  F12     1400 non-null   float64\n",
            " 12  F13     1400 non-null   float64\n",
            " 13  F14     1400 non-null   float64\n",
            " 14  F15     1400 non-null   float64\n",
            " 15  F16     1400 non-null   float64\n",
            " 16  F17     1400 non-null   int64  \n",
            " 17  F18     1400 non-null   float64\n",
            " 18  F19     1400 non-null   float64\n",
            " 19  F20     1400 non-null   float64\n",
            " 20  F21     1400 non-null   int64  \n",
            " 21  F22     1400 non-null   float64\n",
            " 22  F23     1400 non-null   float64\n",
            " 23  F24     1400 non-null   float64\n",
            " 24  F25     1400 non-null   float64\n",
            " 25  F26     1400 non-null   float64\n",
            " 26  F27     1400 non-null   float64\n",
            " 27  F28     1400 non-null   float64\n",
            " 28  F29     1400 non-null   float64\n",
            " 29  F30     1400 non-null   float64\n",
            " 30  F31     1400 non-null   float64\n",
            " 31  F32     1400 non-null   float64\n",
            " 32  F33     1400 non-null   float64\n",
            " 33  F34     1400 non-null   float64\n",
            " 34  Target  1400 non-null   float64\n",
            "dtypes: float64(31), int64(2), object(2)\n",
            "memory usage: 382.9+ KB\n"
          ]
        }
      ]
    },
    {
      "cell_type": "code",
      "source": [
        "# Checking for missing values\n",
        "data_p3.isnull().sum()"
      ],
      "metadata": {
        "colab": {
          "base_uri": "https://localhost:8080/"
        },
        "id": "nL07FKZ2uOjB",
        "outputId": "442dc056-a5ef-4df0-a160-08591d2f1dcc"
      },
      "execution_count": 7,
      "outputs": [
        {
          "output_type": "execute_result",
          "data": {
            "text/plain": [
              "F1        0\n",
              "F2        0\n",
              "F3        0\n",
              "F4        0\n",
              "F5        0\n",
              "F6        0\n",
              "F7        0\n",
              "F8        0\n",
              "F9        0\n",
              "F10       0\n",
              "F11       0\n",
              "F12       0\n",
              "F13       0\n",
              "F14       0\n",
              "F15       0\n",
              "F16       0\n",
              "F17       0\n",
              "F18       0\n",
              "F19       0\n",
              "F20       0\n",
              "F21       0\n",
              "F22       0\n",
              "F23       0\n",
              "F24       0\n",
              "F25       0\n",
              "F26       0\n",
              "F27       0\n",
              "F28       0\n",
              "F29       0\n",
              "F30       0\n",
              "F31       0\n",
              "F32       0\n",
              "F33       0\n",
              "F34       0\n",
              "Target    0\n",
              "dtype: int64"
            ]
          },
          "metadata": {},
          "execution_count": 7
        }
      ]
    },
    {
      "cell_type": "code",
      "source": [
        "# Checking corelation among the variables\n",
        "corr = data_p3.corr()\n",
        "ax = sns.heatmap(\n",
        "    corr, \n",
        "    vmin=-1, vmax=1, center=0,\n",
        "    cmap=sns.diverging_palette(20, 220, n=200),\n",
        "    square=True\n",
        ")\n",
        "ax.set_xticklabels(\n",
        "    ax.get_xticklabels(),\n",
        "    rotation=45,\n",
        "    horizontalalignment='right'\n",
        ");"
      ],
      "metadata": {
        "colab": {
          "base_uri": "https://localhost:8080/",
          "height": 519
        },
        "id": "Vof9RIVYuOln",
        "outputId": "5eb88869-42e3-4c15-8ab8-1c19a9dce6e2"
      },
      "execution_count": 8,
      "outputs": [
        {
          "output_type": "stream",
          "name": "stderr",
          "text": [
            "<ipython-input-8-ebee1f3816d4>:2: FutureWarning: The default value of numeric_only in DataFrame.corr is deprecated. In a future version, it will default to False. Select only valid columns or specify the value of numeric_only to silence this warning.\n",
            "  corr = data_p3.corr()\n"
          ]
        },
        {
          "output_type": "display_data",
          "data": {
            "text/plain": [
              "<Figure size 640x480 with 2 Axes>"
            ],
            "image/png": "[encoded data removed]"
          },
          "metadata": {}
        }
      ]
    },
    {
      "cell_type": "code",
      "source": [
        "# Encoding variables F6 and F10 since they are catogorical variables.\n",
        "X_enc = data_p3[['F6','F10']]\n",
        "X_enc = pd.get_dummies(data=X_enc, drop_first=True)\n"
      ],
      "metadata": {
        "id": "IL6w8_pxuOoO"
      },
      "execution_count": 9,
      "outputs": []
    },
    {
      "cell_type": "code",
      "source": [
        "data_p3_edited = pd.concat([data_p3,X_enc],axis=1)\n",
        "data_p3_edited = data_p3_edited.drop(['F6'], axis = 1)\n",
        "data_p3_edited = data_p3_edited.drop(['F10'], axis = 1)"
      ],
      "metadata": {
        "id": "0UqE5YOJuOql"
      },
      "execution_count": 10,
      "outputs": []
    },
    {
      "cell_type": "code",
      "source": [
        "data_p3_edited.head()"
      ],
      "metadata": {
        "colab": {
          "base_uri": "https://localhost:8080/",
          "height": 317
        },
        "id": "yn8SlF7KwVyw",
        "outputId": "422c2dbb-c74e-43f8-d22d-67f7d42e6b8c"
      },
      "execution_count": 11,
      "outputs": [
        {
          "output_type": "execute_result",
          "data": {
            "text/plain": [
              "      F1      F2       F3     F4       F5       F7       F8     F9   F11  \\\n",
              "0  17.58   98.59  1879.44   0.29   389.90 -1651.25     8.84 -25.90  5.06   \n",
              "1  -2.48   97.97  1622.75   4.78  -876.02 -1403.87  -877.44 -29.20  3.37   \n",
              "2   3.98  118.94  3050.01   0.53    76.62 -1730.32   -46.74 -39.30  5.47   \n",
              "3   5.88  147.61  1844.40   0.81  -929.74 -1427.05   581.78 -28.88  0.20   \n",
              "4 -20.16  107.74  1860.04  18.01  2113.90 -1335.50 -1171.70 -27.06  4.54   \n",
              "\n",
              "       F12  ...      F33    F34  Target  F6_Rest  F6_UK  F6_USA  F10_Low  \\\n",
              "0  2567.48  ...   287.97  24.91   -8.93        0      0       0        0   \n",
              "1  2205.16  ... -1403.97  24.58   21.90        1      0       0        0   \n",
              "2  1857.12  ...   -46.92  -1.00   56.20        0      0       0        0   \n",
              "3  1861.08  ...  -958.44   8.50   -8.93        0      0       0        0   \n",
              "4  1138.24  ...   966.87   9.71   -8.93        1      0       0        0   \n",
              "\n",
              "   F10_Medium  F10_Very high  F10_Very low  \n",
              "0           0              0             1  \n",
              "1           0              0             0  \n",
              "2           0              1             0  \n",
              "3           0              0             1  \n",
              "4           1              0             0  \n",
              "\n",
              "[5 rows x 40 columns]"
            ],
            "text/html": [
              "\n",
              "  <div id=\"df-1e9c9a41-d006-4fdf-9b37-bbc89088a2dd\">\n",
              "    <div class=\"colab-df-container\">\n",
              "      <div>\n",
              "<style scoped>\n",
              "    .dataframe tbody tr th:only-of-type {\n",
              "        vertical-align: middle;\n",
              "    }\n",
              "\n",
              "    .dataframe tbody tr th {\n",
              "        vertical-align: top;\n",
              "    }\n",
              "\n",
              "    .dataframe thead th {\n",
              "        text-align: right;\n",
              "    }\n",
              "</style>\n",
              "<table border=\"1\" class=\"dataframe\">\n",
              "  <thead>\n",
              "    <tr style=\"text-align: right;\">\n",
              "      <th></th>\n",
              "      <th>F1</th>\n",
              "      <th>F2</th>\n",
              "      <th>F3</th>\n",
              "      <th>F4</th>\n",
              "      <th>F5</th>\n",
              "      <th>F7</th>\n",
              "      <th>F8</th>\n",
              "      <th>F9</th>\n",
              "      <th>F11</th>\n",
              "      <th>F12</th>\n",
              "      <th>...</th>\n",
              "      <th>F33</th>\n",
              "      <th>F34</th>\n",
              "      <th>Target</th>\n",
              "      <th>F6_Rest</th>\n",
              "      <th>F6_UK</th>\n",
              "      <th>F6_USA</th>\n",
              "      <th>F10_Low</th>\n",
              "      <th>F10_Medium</th>\n",
              "      <th>F10_Very high</th>\n",
              "      <th>F10_Very low</th>\n",
              "    </tr>\n",
              "  </thead>\n",
              "  <tbody>\n",
              "    <tr>\n",
              "      <th>0</th>\n",
              "      <td>17.58</td>\n",
              "      <td>98.59</td>\n",
              "      <td>1879.44</td>\n",
              "      <td>0.29</td>\n",
              "      <td>389.90</td>\n",
              "      <td>-1651.25</td>\n",
              "      <td>8.84</td>\n",
              "      <td>-25.90</td>\n",
              "      <td>5.06</td>\n",
              "      <td>2567.48</td>\n",
              "      <td>...</td>\n",
              "      <td>287.97</td>\n",
              "      <td>24.91</td>\n",
              "      <td>-8.93</td>\n",
              "      <td>0</td>\n",
              "      <td>0</td>\n",
              "      <td>0</td>\n",
              "      <td>0</td>\n",
              "      <td>0</td>\n",
              "      <td>0</td>\n",
              "      <td>1</td>\n",
              "    </tr>\n",
              "    <tr>\n",
              "      <th>1</th>\n",
              "      <td>-2.48</td>\n",
              "      <td>97.97</td>\n",
              "      <td>1622.75</td>\n",
              "      <td>4.78</td>\n",
              "      <td>-876.02</td>\n",
              "      <td>-1403.87</td>\n",
              "      <td>-877.44</td>\n",
              "      <td>-29.20</td>\n",
              "      <td>3.37</td>\n",
              "      <td>2205.16</td>\n",
              "      <td>...</td>\n",
              "      <td>-1403.97</td>\n",
              "      <td>24.58</td>\n",
              "      <td>21.90</td>\n",
              "      <td>1</td>\n",
              "      <td>0</td>\n",
              "      <td>0</td>\n",
              "      <td>0</td>\n",
              "      <td>0</td>\n",
              "      <td>0</td>\n",
              "      <td>0</td>\n",
              "    </tr>\n",
              "    <tr>\n",
              "      <th>2</th>\n",
              "      <td>3.98</td>\n",
              "      <td>118.94</td>\n",
              "      <td>3050.01</td>\n",
              "      <td>0.53</td>\n",
              "      <td>76.62</td>\n",
              "      <td>-1730.32</td>\n",
              "      <td>-46.74</td>\n",
              "      <td>-39.30</td>\n",
              "      <td>5.47</td>\n",
              "      <td>1857.12</td>\n",
              "      <td>...</td>\n",
              "      <td>-46.92</td>\n",
              "      <td>-1.00</td>\n",
              "      <td>56.20</td>\n",
              "      <td>0</td>\n",
              "      <td>0</td>\n",
              "      <td>0</td>\n",
              "      <td>0</td>\n",
              "      <td>0</td>\n",
              "      <td>1</td>\n",
              "      <td>0</td>\n",
              "    </tr>\n",
              "    <tr>\n",
              "      <th>3</th>\n",
              "      <td>5.88</td>\n",
              "      <td>147.61</td>\n",
              "      <td>1844.40</td>\n",
              "      <td>0.81</td>\n",
              "      <td>-929.74</td>\n",
              "      <td>-1427.05</td>\n",
              "      <td>581.78</td>\n",
              "      <td>-28.88</td>\n",
              "      <td>0.20</td>\n",
              "      <td>1861.08</td>\n",
              "      <td>...</td>\n",
              "      <td>-958.44</td>\n",
              "      <td>8.50</td>\n",
              "      <td>-8.93</td>\n",
              "      <td>0</td>\n",
              "      <td>0</td>\n",
              "      <td>0</td>\n",
              "      <td>0</td>\n",
              "      <td>0</td>\n",
              "      <td>0</td>\n",
              "      <td>1</td>\n",
              "    </tr>\n",
              "    <tr>\n",
              "      <th>4</th>\n",
              "      <td>-20.16</td>\n",
              "      <td>107.74</td>\n",
              "      <td>1860.04</td>\n",
              "      <td>18.01</td>\n",
              "      <td>2113.90</td>\n",
              "      <td>-1335.50</td>\n",
              "      <td>-1171.70</td>\n",
              "      <td>-27.06</td>\n",
              "      <td>4.54</td>\n",
              "      <td>1138.24</td>\n",
              "      <td>...</td>\n",
              "      <td>966.87</td>\n",
              "      <td>9.71</td>\n",
              "      <td>-8.93</td>\n",
              "      <td>1</td>\n",
              "      <td>0</td>\n",
              "      <td>0</td>\n",
              "      <td>0</td>\n",
              "      <td>1</td>\n",
              "      <td>0</td>\n",
              "      <td>0</td>\n",
              "    </tr>\n",
              "  </tbody>\n",
              "</table>\n",
              "<p>5 rows × 40 columns</p>\n",
              "</div>\n",
              "      <button class=\"colab-df-convert\" onclick=\"convertToInteractive('df-1e9c9a41-d006-4fdf-9b37-bbc89088a2dd')\"\n",
              "              title=\"Convert this dataframe to an interactive table.\"\n",
              "              style=\"display:none;\">\n",
              "        \n",
              "  <svg xmlns=\"http://www.w3.org/2000/svg\" height=\"24px\"viewBox=\"0 0 24 24\"\n",
              "       width=\"24px\">\n",
              "    <path d=\"M0 0h24v24H0V0z\" fill=\"none\"/>\n",
              "    <path d=\"M18.56 5.44l.94 2.06.94-2.06 2.06-.94-2.06-.94-.94-2.06-.94 2.06-2.06.94zm-11 1L8.5 8.5l.94-2.06 2.06-.94-2.06-.94L8.5 2.5l-.94 2.06-2.06.94zm10 10l.94 2.06.94-2.06 2.06-.94-2.06-.94-.94-2.06-.94 2.06-2.06.94z\"/><path d=\"M17.41 7.96l-1.37-1.37c-.4-.4-.92-.59-1.43-.59-.52 0-1.04.2-1.43.59L10.3 9.45l-7.72 7.72c-.78.78-.78 2.05 0 2.83L4 21.41c.39.39.9.59 1.41.59.51 0 1.02-.2 1.41-.59l7.78-7.78 2.81-2.81c.8-.78.8-2.07 0-2.86zM5.41 20L4 18.59l7.72-7.72 1.47 1.35L5.41 20z\"/>\n",
              "  </svg>\n",
              "      </button>\n",
              "      \n",
              "  <style>\n",
              "    .colab-df-container {\n",
              "      display:flex;\n",
              "      flex-wrap:wrap;\n",
              "      gap: 12px;\n",
              "    }\n",
              "\n",
              "    .colab-df-convert {\n",
              "      background-color: #E8F0FE;\n",
              "      border: none;\n",
              "      border-radius: 50%;\n",
              "      cursor: pointer;\n",
              "      display: none;\n",
              "      fill: #1967D2;\n",
              "      height: 32px;\n",
              "      padding: 0 0 0 0;\n",
              "      width: 32px;\n",
              "    }\n",
              "\n",
              "    .colab-df-convert:hover {\n",
              "      background-color: #E2EBFA;\n",
              "      box-shadow: 0px 1px 2px rgba(60, 64, 67, 0.3), 0px 1px 3px 1px rgba(60, 64, 67, 0.15);\n",
              "      fill: #174EA6;\n",
              "    }\n",
              "\n",
              "    [theme=dark] .colab-df-convert {\n",
              "      background-color: #3B4455;\n",
              "      fill: #D2E3FC;\n",
              "    }\n",
              "\n",
              "    [theme=dark] .colab-df-convert:hover {\n",
              "      background-color: #434B5C;\n",
              "      box-shadow: 0px 1px 3px 1px rgba(0, 0, 0, 0.15);\n",
              "      filter: drop-shadow(0px 1px 2px rgba(0, 0, 0, 0.3));\n",
              "      fill: #FFFFFF;\n",
              "    }\n",
              "  </style>\n",
              "\n",
              "      <script>\n",
              "        const buttonEl =\n",
              "          document.querySelector('#df-1e9c9a41-d006-4fdf-9b37-bbc89088a2dd button.colab-df-convert');\n",
              "        buttonEl.style.display =\n",
              "          google.colab.kernel.accessAllowed ? 'block' : 'none';\n",
              "\n",
              "        async function convertToInteractive(key) {\n",
              "          const element = document.querySelector('#df-1e9c9a41-d006-4fdf-9b37-bbc89088a2dd');\n",
              "          const dataTable =\n",
              "            await google.colab.kernel.invokeFunction('convertToInteractive',\n",
              "                                                     [key], {});\n",
              "          if (!dataTable) return;\n",
              "\n",
              "          const docLinkHtml = 'Like what you see? Visit the ' +\n",
              "            '<a target=\"_blank\" href=https://colab.research.google.com/notebooks/data_table.ipynb>data table notebook</a>'\n",
              "            + ' to learn more about interactive tables.';\n",
              "          element.innerHTML = '';\n",
              "          dataTable['output_type'] = 'display_data';\n",
              "          await google.colab.output.renderOutput(dataTable, element);\n",
              "          const docLink = document.createElement('div');\n",
              "          docLink.innerHTML = docLinkHtml;\n",
              "          element.appendChild(docLink);\n",
              "        }\n",
              "      </script>\n",
              "    </div>\n",
              "  </div>\n",
              "  "
            ]
          },
          "metadata": {},
          "execution_count": 11
        }
      ]
    },
    {
      "cell_type": "code",
      "source": [
        "# Seperating input and target variable from data_p3_edited dataset\n",
        "data_p3_edited_features=data_p3_edited.drop(['Target'],axis=1)\n",
        "data_p3_edited_outcome=data_p3_edited['Target']\n",
        "print(data_p3_edited_features.head())\n",
        "print(data_p3_edited_outcome.head())"
      ],
      "metadata": {
        "colab": {
          "base_uri": "https://localhost:8080/"
        },
        "id": "WAJlVIaywV7B",
        "outputId": "60dbb0fc-7a87-4e0f-cca2-211b4852495b"
      },
      "execution_count": 12,
      "outputs": [
        {
          "output_type": "stream",
          "name": "stdout",
          "text": [
            "      F1      F2       F3     F4       F5       F7       F8     F9   F11  \\\n",
            "0  17.58   98.59  1879.44   0.29   389.90 -1651.25     8.84 -25.90  5.06   \n",
            "1  -2.48   97.97  1622.75   4.78  -876.02 -1403.87  -877.44 -29.20  3.37   \n",
            "2   3.98  118.94  3050.01   0.53    76.62 -1730.32   -46.74 -39.30  5.47   \n",
            "3   5.88  147.61  1844.40   0.81  -929.74 -1427.05   581.78 -28.88  0.20   \n",
            "4 -20.16  107.74  1860.04  18.01  2113.90 -1335.50 -1171.70 -27.06  4.54   \n",
            "\n",
            "       F12  ...     F32      F33    F34  F6_Rest  F6_UK  F6_USA  F10_Low  \\\n",
            "0  2567.48  ...  -49.94   287.97  24.91        0      0       0        0   \n",
            "1  2205.16  ... -154.02 -1403.97  24.58        1      0       0        0   \n",
            "2  1857.12  ... -139.38   -46.92  -1.00        0      0       0        0   \n",
            "3  1861.08  ... -125.06  -958.44   8.50        0      0       0        0   \n",
            "4  1138.24  ... -230.22   966.87   9.71        1      0       0        0   \n",
            "\n",
            "   F10_Medium  F10_Very high  F10_Very low  \n",
            "0           0              0             1  \n",
            "1           0              0             0  \n",
            "2           0              1             0  \n",
            "3           0              0             1  \n",
            "4           1              0             0  \n",
            "\n",
            "[5 rows x 39 columns]\n",
            "0    -8.93\n",
            "1    21.90\n",
            "2    56.20\n",
            "3    -8.93\n",
            "4    -8.93\n",
            "Name: Target, dtype: float64\n"
          ]
        }
      ]
    },
    {
      "cell_type": "code",
      "source": [
        "# Splitting the data into training and test\n",
        "from sklearn import linear_model, metrics\n",
        "from sklearn.model_selection import train_test_split\n",
        "X_train, X_test, y_train, y_test = train_test_split(data_p3_edited_features, data_p3_edited_outcome, test_size=0.2,random_state=42)"
      ],
      "metadata": {
        "id": "O3036JtCwV-I"
      },
      "execution_count": 13,
      "outputs": []
    },
    {
      "cell_type": "code",
      "source": [
        "# Reading the dataset into a dataframe df_p3_test\n",
        "data_p3_test=pd.read_csv(\"/content/CE802_P3_Test.csv\")"
      ],
      "metadata": {
        "id": "XaYB1gFnwWBQ"
      },
      "execution_count": 14,
      "outputs": []
    },
    {
      "cell_type": "code",
      "source": [
        "data_p3_test.head()"
      ],
      "metadata": {
        "colab": {
          "base_uri": "https://localhost:8080/",
          "height": 317
        },
        "id": "fRFaIfOIwWDl",
        "outputId": "58a7fabe-0662-4590-d29e-87a70b20d230"
      },
      "execution_count": 15,
      "outputs": [
        {
          "output_type": "execute_result",
          "data": {
            "text/plain": [
              "     F1      F2       F3      F4      F5      F6       F7      F8     F9  \\\n",
              "0  6.68   86.02  1995.28  148.00  853.52  Europe -1048.23 -969.14 -26.56   \n",
              "1  3.86   44.75  2124.64    0.58  254.96  Europe -1352.21 -713.96 -21.76   \n",
              "2 -0.84   95.33  2234.09    1.14  759.92     USA -1883.28  304.16 -26.58   \n",
              "3  3.34  100.87  1627.78    0.58  773.36    Rest  -114.23   32.26 -25.22   \n",
              "4 -1.32  100.36  1924.03    0.02  204.38  Europe -1154.37 -948.02 -36.58   \n",
              "\n",
              "         F10  ...    F26    F27    F28       F29      F30    F31     F32  \\\n",
              "0  Very high  ...  39.15  65.01 -22.62  62241.18  1089.14  14.73 -191.24   \n",
              "1        Low  ...  51.90  39.03  -8.60  51324.96   604.73  12.06 -154.74   \n",
              "2       High  ...  55.62  62.37 -12.14  68439.00   916.11   5.76 -105.98   \n",
              "3        Low  ...  60.66  61.47  -9.44  24517.71   576.57   8.73  -24.82   \n",
              "4       High  ...  52.62  45.06 -21.16  51155.01   897.53  11.22  -92.04   \n",
              "\n",
              "       F33    F34  Target  \n",
              "0  1523.73 -14.81     NaN  \n",
              "1 -1892.31 -39.83     NaN  \n",
              "2  -884.82  73.85     NaN  \n",
              "3  -424.65   6.99     NaN  \n",
              "4 -1446.90  12.78     NaN  \n",
              "\n",
              "[5 rows x 35 columns]"
            ],
            "text/html": [
              "\n",
              "  <div id=\"df-3adb4900-5bba-4ea4-9fe0-d269595b5305\">\n",
              "    <div class=\"colab-df-container\">\n",
              "      <div>\n",
              "<style scoped>\n",
              "    .dataframe tbody tr th:only-of-type {\n",
              "        vertical-align: middle;\n",
              "    }\n",
              "\n",
              "    .dataframe tbody tr th {\n",
              "        vertical-align: top;\n",
              "    }\n",
              "\n",
              "    .dataframe thead th {\n",
              "        text-align: right;\n",
              "    }\n",
              "</style>\n",
              "<table border=\"1\" class=\"dataframe\">\n",
              "  <thead>\n",
              "    <tr style=\"text-align: right;\">\n",
              "      <th></th>\n",
              "      <th>F1</th>\n",
              "      <th>F2</th>\n",
              "      <th>F3</th>\n",
              "      <th>F4</th>\n",
              "      <th>F5</th>\n",
              "      <th>F6</th>\n",
              "      <th>F7</th>\n",
              "      <th>F8</th>\n",
              "      <th>F9</th>\n",
              "      <th>F10</th>\n",
              "      <th>...</th>\n",
              "      <th>F26</th>\n",
              "      <th>F27</th>\n",
              "      <th>F28</th>\n",
              "      <th>F29</th>\n",
              "      <th>F30</th>\n",
              "      <th>F31</th>\n",
              "      <th>F32</th>\n",
              "      <th>F33</th>\n",
              "      <th>F34</th>\n",
              "      <th>Target</th>\n",
              "    </tr>\n",
              "  </thead>\n",
              "  <tbody>\n",
              "    <tr>\n",
              "      <th>0</th>\n",
              "      <td>6.68</td>\n",
              "      <td>86.02</td>\n",
              "      <td>1995.28</td>\n",
              "      <td>148.00</td>\n",
              "      <td>853.52</td>\n",
              "      <td>Europe</td>\n",
              "      <td>-1048.23</td>\n",
              "      <td>-969.14</td>\n",
              "      <td>-26.56</td>\n",
              "      <td>Very high</td>\n",
              "      <td>...</td>\n",
              "      <td>39.15</td>\n",
              "      <td>65.01</td>\n",
              "      <td>-22.62</td>\n",
              "      <td>62241.18</td>\n",
              "      <td>1089.14</td>\n",
              "      <td>14.73</td>\n",
              "      <td>-191.24</td>\n",
              "      <td>1523.73</td>\n",
              "      <td>-14.81</td>\n",
              "      <td>NaN</td>\n",
              "    </tr>\n",
              "    <tr>\n",
              "      <th>1</th>\n",
              "      <td>3.86</td>\n",
              "      <td>44.75</td>\n",
              "      <td>2124.64</td>\n",
              "      <td>0.58</td>\n",
              "      <td>254.96</td>\n",
              "      <td>Europe</td>\n",
              "      <td>-1352.21</td>\n",
              "      <td>-713.96</td>\n",
              "      <td>-21.76</td>\n",
              "      <td>Low</td>\n",
              "      <td>...</td>\n",
              "      <td>51.90</td>\n",
              "      <td>39.03</td>\n",
              "      <td>-8.60</td>\n",
              "      <td>51324.96</td>\n",
              "      <td>604.73</td>\n",
              "      <td>12.06</td>\n",
              "      <td>-154.74</td>\n",
              "      <td>-1892.31</td>\n",
              "      <td>-39.83</td>\n",
              "      <td>NaN</td>\n",
              "    </tr>\n",
              "    <tr>\n",
              "      <th>2</th>\n",
              "      <td>-0.84</td>\n",
              "      <td>95.33</td>\n",
              "      <td>2234.09</td>\n",
              "      <td>1.14</td>\n",
              "      <td>759.92</td>\n",
              "      <td>USA</td>\n",
              "      <td>-1883.28</td>\n",
              "      <td>304.16</td>\n",
              "      <td>-26.58</td>\n",
              "      <td>High</td>\n",
              "      <td>...</td>\n",
              "      <td>55.62</td>\n",
              "      <td>62.37</td>\n",
              "      <td>-12.14</td>\n",
              "      <td>68439.00</td>\n",
              "      <td>916.11</td>\n",
              "      <td>5.76</td>\n",
              "      <td>-105.98</td>\n",
              "      <td>-884.82</td>\n",
              "      <td>73.85</td>\n",
              "      <td>NaN</td>\n",
              "    </tr>\n",
              "    <tr>\n",
              "      <th>3</th>\n",
              "      <td>3.34</td>\n",
              "      <td>100.87</td>\n",
              "      <td>1627.78</td>\n",
              "      <td>0.58</td>\n",
              "      <td>773.36</td>\n",
              "      <td>Rest</td>\n",
              "      <td>-114.23</td>\n",
              "      <td>32.26</td>\n",
              "      <td>-25.22</td>\n",
              "      <td>Low</td>\n",
              "      <td>...</td>\n",
              "      <td>60.66</td>\n",
              "      <td>61.47</td>\n",
              "      <td>-9.44</td>\n",
              "      <td>24517.71</td>\n",
              "      <td>576.57</td>\n",
              "      <td>8.73</td>\n",
              "      <td>-24.82</td>\n",
              "      <td>-424.65</td>\n",
              "      <td>6.99</td>\n",
              "      <td>NaN</td>\n",
              "    </tr>\n",
              "    <tr>\n",
              "      <th>4</th>\n",
              "      <td>-1.32</td>\n",
              "      <td>100.36</td>\n",
              "      <td>1924.03</td>\n",
              "      <td>0.02</td>\n",
              "      <td>204.38</td>\n",
              "      <td>Europe</td>\n",
              "      <td>-1154.37</td>\n",
              "      <td>-948.02</td>\n",
              "      <td>-36.58</td>\n",
              "      <td>High</td>\n",
              "      <td>...</td>\n",
              "      <td>52.62</td>\n",
              "      <td>45.06</td>\n",
              "      <td>-21.16</td>\n",
              "      <td>51155.01</td>\n",
              "      <td>897.53</td>\n",
              "      <td>11.22</td>\n",
              "      <td>-92.04</td>\n",
              "      <td>-1446.90</td>\n",
              "      <td>12.78</td>\n",
              "      <td>NaN</td>\n",
              "    </tr>\n",
              "  </tbody>\n",
              "</table>\n",
              "<p>5 rows × 35 columns</p>\n",
              "</div>\n",
              "      <button class=\"colab-df-convert\" onclick=\"convertToInteractive('df-3adb4900-5bba-4ea4-9fe0-d269595b5305')\"\n",
              "              title=\"Convert this dataframe to an interactive table.\"\n",
              "              style=\"display:none;\">\n",
              "        \n",
              "  <svg xmlns=\"http://www.w3.org/2000/svg\" height=\"24px\"viewBox=\"0 0 24 24\"\n",
              "       width=\"24px\">\n",
              "    <path d=\"M0 0h24v24H0V0z\" fill=\"none\"/>\n",
              "    <path d=\"M18.56 5.44l.94 2.06.94-2.06 2.06-.94-2.06-.94-.94-2.06-.94 2.06-2.06.94zm-11 1L8.5 8.5l.94-2.06 2.06-.94-2.06-.94L8.5 2.5l-.94 2.06-2.06.94zm10 10l.94 2.06.94-2.06 2.06-.94-2.06-.94-.94-2.06-.94 2.06-2.06.94z\"/><path d=\"M17.41 7.96l-1.37-1.37c-.4-.4-.92-.59-1.43-.59-.52 0-1.04.2-1.43.59L10.3 9.45l-7.72 7.72c-.78.78-.78 2.05 0 2.83L4 21.41c.39.39.9.59 1.41.59.51 0 1.02-.2 1.41-.59l7.78-7.78 2.81-2.81c.8-.78.8-2.07 0-2.86zM5.41 20L4 18.59l7.72-7.72 1.47 1.35L5.41 20z\"/>\n",
              "  </svg>\n",
              "      </button>\n",
              "      \n",
              "  <style>\n",
              "    .colab-df-container {\n",
              "      display:flex;\n",
              "      flex-wrap:wrap;\n",
              "      gap: 12px;\n",
              "    }\n",
              "\n",
              "    .colab-df-convert {\n",
              "      background-color: #E8F0FE;\n",
              "      border: none;\n",
              "      border-radius: 50%;\n",
              "      cursor: pointer;\n",
              "      display: none;\n",
              "      fill: #1967D2;\n",
              "      height: 32px;\n",
              "      padding: 0 0 0 0;\n",
              "      width: 32px;\n",
              "    }\n",
              "\n",
              "    .colab-df-convert:hover {\n",
              "      background-color: #E2EBFA;\n",
              "      box-shadow: 0px 1px 2px rgba(60, 64, 67, 0.3), 0px 1px 3px 1px rgba(60, 64, 67, 0.15);\n",
              "      fill: #174EA6;\n",
              "    }\n",
              "\n",
              "    [theme=dark] .colab-df-convert {\n",
              "      background-color: #3B4455;\n",
              "      fill: #D2E3FC;\n",
              "    }\n",
              "\n",
              "    [theme=dark] .colab-df-convert:hover {\n",
              "      background-color: #434B5C;\n",
              "      box-shadow: 0px 1px 3px 1px rgba(0, 0, 0, 0.15);\n",
              "      filter: drop-shadow(0px 1px 2px rgba(0, 0, 0, 0.3));\n",
              "      fill: #FFFFFF;\n",
              "    }\n",
              "  </style>\n",
              "\n",
              "      <script>\n",
              "        const buttonEl =\n",
              "          document.querySelector('#df-3adb4900-5bba-4ea4-9fe0-d269595b5305 button.colab-df-convert');\n",
              "        buttonEl.style.display =\n",
              "          google.colab.kernel.accessAllowed ? 'block' : 'none';\n",
              "\n",
              "        async function convertToInteractive(key) {\n",
              "          const element = document.querySelector('#df-3adb4900-5bba-4ea4-9fe0-d269595b5305');\n",
              "          const dataTable =\n",
              "            await google.colab.kernel.invokeFunction('convertToInteractive',\n",
              "                                                     [key], {});\n",
              "          if (!dataTable) return;\n",
              "\n",
              "          const docLinkHtml = 'Like what you see? Visit the ' +\n",
              "            '<a target=\"_blank\" href=https://colab.research.google.com/notebooks/data_table.ipynb>data table notebook</a>'\n",
              "            + ' to learn more about interactive tables.';\n",
              "          element.innerHTML = '';\n",
              "          dataTable['output_type'] = 'display_data';\n",
              "          await google.colab.output.renderOutput(dataTable, element);\n",
              "          const docLink = document.createElement('div');\n",
              "          docLink.innerHTML = docLinkHtml;\n",
              "          element.appendChild(docLink);\n",
              "        }\n",
              "      </script>\n",
              "    </div>\n",
              "  </div>\n",
              "  "
            ]
          },
          "metadata": {},
          "execution_count": 15
        }
      ]
    },
    {
      "cell_type": "code",
      "source": [
        "# Encoding variables F6 and F10 since they are catogorical variables.\n",
        "X_enc = data_p3_test[['F6','F10']]\n",
        "X_enc = pd.get_dummies(data=X_enc, drop_first=True)"
      ],
      "metadata": {
        "id": "kwWyCLIcxg_u"
      },
      "execution_count": 16,
      "outputs": []
    },
    {
      "cell_type": "code",
      "source": [
        "df_p3_test_New = pd.concat([data_p3_test,X_enc],axis=1)\n",
        "df_p3_test_New = df_p3_test_New.drop(['F6'], axis = 1)\n",
        "df_p3_test_New = df_p3_test_New.drop(['F10'], axis = 1)"
      ],
      "metadata": {
        "id": "mOs9R8VVxhDz"
      },
      "execution_count": 17,
      "outputs": []
    },
    {
      "cell_type": "code",
      "source": [
        "df_p3_test_New.head()"
      ],
      "metadata": {
        "colab": {
          "base_uri": "https://localhost:8080/",
          "height": 317
        },
        "id": "di7B8BHOxhGq",
        "outputId": "7cfa76d8-2b9b-4499-94de-767f2ced55f5"
      },
      "execution_count": 18,
      "outputs": [
        {
          "output_type": "execute_result",
          "data": {
            "text/plain": [
              "     F1      F2       F3      F4      F5       F7      F8     F9   F11  \\\n",
              "0  6.68   86.02  1995.28  148.00  853.52 -1048.23 -969.14 -26.56  3.33   \n",
              "1  3.86   44.75  2124.64    0.58  254.96 -1352.21 -713.96 -21.76  3.56   \n",
              "2 -0.84   95.33  2234.09    1.14  759.92 -1883.28  304.16 -26.58  7.03   \n",
              "3  3.34  100.87  1627.78    0.58  773.36  -114.23   32.26 -25.22  5.23   \n",
              "4 -1.32  100.36  1924.03    0.02  204.38 -1154.37 -948.02 -36.58  3.05   \n",
              "\n",
              "       F12  ...      F33    F34  Target  F6_Rest  F6_UK  F6_USA  F10_Low  \\\n",
              "0  3229.98  ...  1523.73 -14.81     NaN        0      0       0        0   \n",
              "1   947.16  ... -1892.31 -39.83     NaN        0      0       0        1   \n",
              "2   655.96  ...  -884.82  73.85     NaN        0      0       1        0   \n",
              "3  3094.10  ...  -424.65   6.99     NaN        1      0       0        1   \n",
              "4  2706.82  ... -1446.90  12.78     NaN        0      0       0        0   \n",
              "\n",
              "   F10_Medium  F10_Very high  F10_Very low  \n",
              "0           0              1             0  \n",
              "1           0              0             0  \n",
              "2           0              0             0  \n",
              "3           0              0             0  \n",
              "4           0              0             0  \n",
              "\n",
              "[5 rows x 40 columns]"
            ],
            "text/html": [
              "\n",
              "  <div id=\"df-01121fdb-4f1d-4d78-bb2e-5589816e454c\">\n",
              "    <div class=\"colab-df-container\">\n",
              "      <div>\n",
              "<style scoped>\n",
              "    .dataframe tbody tr th:only-of-type {\n",
              "        vertical-align: middle;\n",
              "    }\n",
              "\n",
              "    .dataframe tbody tr th {\n",
              "        vertical-align: top;\n",
              "    }\n",
              "\n",
              "    .dataframe thead th {\n",
              "        text-align: right;\n",
              "    }\n",
              "</style>\n",
              "<table border=\"1\" class=\"dataframe\">\n",
              "  <thead>\n",
              "    <tr style=\"text-align: right;\">\n",
              "      <th></th>\n",
              "      <th>F1</th>\n",
              "      <th>F2</th>\n",
              "      <th>F3</th>\n",
              "      <th>F4</th>\n",
              "      <th>F5</th>\n",
              "      <th>F7</th>\n",
              "      <th>F8</th>\n",
              "      <th>F9</th>\n",
              "      <th>F11</th>\n",
              "      <th>F12</th>\n",
              "      <th>...</th>\n",
              "      <th>F33</th>\n",
              "      <th>F34</th>\n",
              "      <th>Target</th>\n",
              "      <th>F6_Rest</th>\n",
              "      <th>F6_UK</th>\n",
              "      <th>F6_USA</th>\n",
              "      <th>F10_Low</th>\n",
              "      <th>F10_Medium</th>\n",
              "      <th>F10_Very high</th>\n",
              "      <th>F10_Very low</th>\n",
              "    </tr>\n",
              "  </thead>\n",
              "  <tbody>\n",
              "    <tr>\n",
              "      <th>0</th>\n",
              "      <td>6.68</td>\n",
              "      <td>86.02</td>\n",
              "      <td>1995.28</td>\n",
              "      <td>148.00</td>\n",
              "      <td>853.52</td>\n",
              "      <td>-1048.23</td>\n",
              "      <td>-969.14</td>\n",
              "      <td>-26.56</td>\n",
              "      <td>3.33</td>\n",
              "      <td>3229.98</td>\n",
              "      <td>...</td>\n",
              "      <td>1523.73</td>\n",
              "      <td>-14.81</td>\n",
              "      <td>NaN</td>\n",
              "      <td>0</td>\n",
              "      <td>0</td>\n",
              "      <td>0</td>\n",
              "      <td>0</td>\n",
              "      <td>0</td>\n",
              "      <td>1</td>\n",
              "      <td>0</td>\n",
              "    </tr>\n",
              "    <tr>\n",
              "      <th>1</th>\n",
              "      <td>3.86</td>\n",
              "      <td>44.75</td>\n",
              "      <td>2124.64</td>\n",
              "      <td>0.58</td>\n",
              "      <td>254.96</td>\n",
              "      <td>-1352.21</td>\n",
              "      <td>-713.96</td>\n",
              "      <td>-21.76</td>\n",
              "      <td>3.56</td>\n",
              "      <td>947.16</td>\n",
              "      <td>...</td>\n",
              "      <td>-1892.31</td>\n",
              "      <td>-39.83</td>\n",
              "      <td>NaN</td>\n",
              "      <td>0</td>\n",
              "      <td>0</td>\n",
              "      <td>0</td>\n",
              "      <td>1</td>\n",
              "      <td>0</td>\n",
              "      <td>0</td>\n",
              "      <td>0</td>\n",
              "    </tr>\n",
              "    <tr>\n",
              "      <th>2</th>\n",
              "      <td>-0.84</td>\n",
              "      <td>95.33</td>\n",
              "      <td>2234.09</td>\n",
              "      <td>1.14</td>\n",
              "      <td>759.92</td>\n",
              "      <td>-1883.28</td>\n",
              "      <td>304.16</td>\n",
              "      <td>-26.58</td>\n",
              "      <td>7.03</td>\n",
              "      <td>655.96</td>\n",
              "      <td>...</td>\n",
              "      <td>-884.82</td>\n",
              "      <td>73.85</td>\n",
              "      <td>NaN</td>\n",
              "      <td>0</td>\n",
              "      <td>0</td>\n",
              "      <td>1</td>\n",
              "      <td>0</td>\n",
              "      <td>0</td>\n",
              "      <td>0</td>\n",
              "      <td>0</td>\n",
              "    </tr>\n",
              "    <tr>\n",
              "      <th>3</th>\n",
              "      <td>3.34</td>\n",
              "      <td>100.87</td>\n",
              "      <td>1627.78</td>\n",
              "      <td>0.58</td>\n",
              "      <td>773.36</td>\n",
              "      <td>-114.23</td>\n",
              "      <td>32.26</td>\n",
              "      <td>-25.22</td>\n",
              "      <td>5.23</td>\n",
              "      <td>3094.10</td>\n",
              "      <td>...</td>\n",
              "      <td>-424.65</td>\n",
              "      <td>6.99</td>\n",
              "      <td>NaN</td>\n",
              "      <td>1</td>\n",
              "      <td>0</td>\n",
              "      <td>0</td>\n",
              "      <td>1</td>\n",
              "      <td>0</td>\n",
              "      <td>0</td>\n",
              "      <td>0</td>\n",
              "    </tr>\n",
              "    <tr>\n",
              "      <th>4</th>\n",
              "      <td>-1.32</td>\n",
              "      <td>100.36</td>\n",
              "      <td>1924.03</td>\n",
              "      <td>0.02</td>\n",
              "      <td>204.38</td>\n",
              "      <td>-1154.37</td>\n",
              "      <td>-948.02</td>\n",
              "      <td>-36.58</td>\n",
              "      <td>3.05</td>\n",
              "      <td>2706.82</td>\n",
              "      <td>...</td>\n",
              "      <td>-1446.90</td>\n",
              "      <td>12.78</td>\n",
              "      <td>NaN</td>\n",
              "      <td>0</td>\n",
              "      <td>0</td>\n",
              "      <td>0</td>\n",
              "      <td>0</td>\n",
              "      <td>0</td>\n",
              "      <td>0</td>\n",
              "      <td>0</td>\n",
              "    </tr>\n",
              "  </tbody>\n",
              "</table>\n",
              "<p>5 rows × 40 columns</p>\n",
              "</div>\n",
              "      <button class=\"colab-df-convert\" onclick=\"convertToInteractive('df-01121fdb-4f1d-4d78-bb2e-5589816e454c')\"\n",
              "              title=\"Convert this dataframe to an interactive table.\"\n",
              "              style=\"display:none;\">\n",
              "        \n",
              "  <svg xmlns=\"http://www.w3.org/2000/svg\" height=\"24px\"viewBox=\"0 0 24 24\"\n",
              "       width=\"24px\">\n",
              "    <path d=\"M0 0h24v24H0V0z\" fill=\"none\"/>\n",
              "    <path d=\"M18.56 5.44l.94 2.06.94-2.06 2.06-.94-2.06-.94-.94-2.06-.94 2.06-2.06.94zm-11 1L8.5 8.5l.94-2.06 2.06-.94-2.06-.94L8.5 2.5l-.94 2.06-2.06.94zm10 10l.94 2.06.94-2.06 2.06-.94-2.06-.94-.94-2.06-.94 2.06-2.06.94z\"/><path d=\"M17.41 7.96l-1.37-1.37c-.4-.4-.92-.59-1.43-.59-.52 0-1.04.2-1.43.59L10.3 9.45l-7.72 7.72c-.78.78-.78 2.05 0 2.83L4 21.41c.39.39.9.59 1.41.59.51 0 1.02-.2 1.41-.59l7.78-7.78 2.81-2.81c.8-.78.8-2.07 0-2.86zM5.41 20L4 18.59l7.72-7.72 1.47 1.35L5.41 20z\"/>\n",
              "  </svg>\n",
              "      </button>\n",
              "      \n",
              "  <style>\n",
              "    .colab-df-container {\n",
              "      display:flex;\n",
              "      flex-wrap:wrap;\n",
              "      gap: 12px;\n",
              "    }\n",
              "\n",
              "    .colab-df-convert {\n",
              "      background-color: #E8F0FE;\n",
              "      border: none;\n",
              "      border-radius: 50%;\n",
              "      cursor: pointer;\n",
              "      display: none;\n",
              "      fill: #1967D2;\n",
              "      height: 32px;\n",
              "      padding: 0 0 0 0;\n",
              "      width: 32px;\n",
              "    }\n",
              "\n",
              "    .colab-df-convert:hover {\n",
              "      background-color: #E2EBFA;\n",
              "      box-shadow: 0px 1px 2px rgba(60, 64, 67, 0.3), 0px 1px 3px 1px rgba(60, 64, 67, 0.15);\n",
              "      fill: #174EA6;\n",
              "    }\n",
              "\n",
              "    [theme=dark] .colab-df-convert {\n",
              "      background-color: #3B4455;\n",
              "      fill: #D2E3FC;\n",
              "    }\n",
              "\n",
              "    [theme=dark] .colab-df-convert:hover {\n",
              "      background-color: #434B5C;\n",
              "      box-shadow: 0px 1px 3px 1px rgba(0, 0, 0, 0.15);\n",
              "      filter: drop-shadow(0px 1px 2px rgba(0, 0, 0, 0.3));\n",
              "      fill: #FFFFFF;\n",
              "    }\n",
              "  </style>\n",
              "\n",
              "      <script>\n",
              "        const buttonEl =\n",
              "          document.querySelector('#df-01121fdb-4f1d-4d78-bb2e-5589816e454c button.colab-df-convert');\n",
              "        buttonEl.style.display =\n",
              "          google.colab.kernel.accessAllowed ? 'block' : 'none';\n",
              "\n",
              "        async function convertToInteractive(key) {\n",
              "          const element = document.querySelector('#df-01121fdb-4f1d-4d78-bb2e-5589816e454c');\n",
              "          const dataTable =\n",
              "            await google.colab.kernel.invokeFunction('convertToInteractive',\n",
              "                                                     [key], {});\n",
              "          if (!dataTable) return;\n",
              "\n",
              "          const docLinkHtml = 'Like what you see? Visit the ' +\n",
              "            '<a target=\"_blank\" href=https://colab.research.google.com/notebooks/data_table.ipynb>data table notebook</a>'\n",
              "            + ' to learn more about interactive tables.';\n",
              "          element.innerHTML = '';\n",
              "          dataTable['output_type'] = 'display_data';\n",
              "          await google.colab.output.renderOutput(dataTable, element);\n",
              "          const docLink = document.createElement('div');\n",
              "          docLink.innerHTML = docLinkHtml;\n",
              "          element.appendChild(docLink);\n",
              "        }\n",
              "      </script>\n",
              "    </div>\n",
              "  </div>\n",
              "  "
            ]
          },
          "metadata": {},
          "execution_count": 18
        }
      ]
    },
    {
      "cell_type": "code",
      "source": [
        "# Seperating input and target variable from df_p3_test_New dataset\n",
        "df_p3_test_New_features=df_p3_test_New.drop(['Target'],axis=1)\n",
        "df_p3_test_New_outcome=df_p3_test_New['Target']\n",
        "print(df_p3_test_New_features.head())\n",
        "print(df_p3_test_New_outcome.head())"
      ],
      "metadata": {
        "colab": {
          "base_uri": "https://localhost:8080/"
        },
        "id": "vZ6puF-yxhJi",
        "outputId": "016b5616-e703-48f2-b252-94f52640add0"
      },
      "execution_count": 19,
      "outputs": [
        {
          "output_type": "stream",
          "name": "stdout",
          "text": [
            "     F1      F2       F3      F4      F5       F7      F8     F9   F11  \\\n",
            "0  6.68   86.02  1995.28  148.00  853.52 -1048.23 -969.14 -26.56  3.33   \n",
            "1  3.86   44.75  2124.64    0.58  254.96 -1352.21 -713.96 -21.76  3.56   \n",
            "2 -0.84   95.33  2234.09    1.14  759.92 -1883.28  304.16 -26.58  7.03   \n",
            "3  3.34  100.87  1627.78    0.58  773.36  -114.23   32.26 -25.22  5.23   \n",
            "4 -1.32  100.36  1924.03    0.02  204.38 -1154.37 -948.02 -36.58  3.05   \n",
            "\n",
            "       F12  ...     F32      F33    F34  F6_Rest  F6_UK  F6_USA  F10_Low  \\\n",
            "0  3229.98  ... -191.24  1523.73 -14.81        0      0       0        0   \n",
            "1   947.16  ... -154.74 -1892.31 -39.83        0      0       0        1   \n",
            "2   655.96  ... -105.98  -884.82  73.85        0      0       1        0   \n",
            "3  3094.10  ...  -24.82  -424.65   6.99        1      0       0        1   \n",
            "4  2706.82  ...  -92.04 -1446.90  12.78        0      0       0        0   \n",
            "\n",
            "   F10_Medium  F10_Very high  F10_Very low  \n",
            "0           0              1             0  \n",
            "1           0              0             0  \n",
            "2           0              0             0  \n",
            "3           0              0             0  \n",
            "4           0              0             0  \n",
            "\n",
            "[5 rows x 39 columns]\n",
            "0   NaN\n",
            "1   NaN\n",
            "2   NaN\n",
            "3   NaN\n",
            "4   NaN\n",
            "Name: Target, dtype: float64\n"
          ]
        }
      ]
    },
    {
      "cell_type": "code",
      "source": [],
      "metadata": {
        "id": "7dqKD1gHxhMa"
      },
      "execution_count": 19,
      "outputs": []
    },
    {
      "cell_type": "markdown",
      "source": [
        "LINEAR REGRESSION"
      ],
      "metadata": {
        "id": "6x_dryM9yCG7"
      }
    },
    {
      "cell_type": "code",
      "source": [
        "lm_reg_model = linear_model.LinearRegression()\n",
        "lm_reg_model.fit(X_train, y_train)"
      ],
      "metadata": {
        "colab": {
          "base_uri": "https://localhost:8080/",
          "height": 75
        },
        "id": "9WvROLkExhPB",
        "outputId": "3fc05e1f-f73f-40f5-adfc-cf022315abf5"
      },
      "execution_count": 20,
      "outputs": [
        {
          "output_type": "execute_result",
          "data": {
            "text/plain": [
              "LinearRegression()"
            ],
            "text/html": [
              "<style>#sk-container-id-1 {color: black;background-color: white;}#sk-container-id-1 pre{padding: 0;}#sk-container-id-1 div.sk-toggleable {background-color: white;}#sk-container-id-1 label.sk-toggleable__label {cursor: pointer;display: block;width: 100%;margin-bottom: 0;padding: 0.3em;box-sizing: border-box;text-align: center;}#sk-container-id-1 label.sk-toggleable__label-arrow:before {content: \"▸\";float: left;margin-right: 0.25em;color: #696969;}#sk-container-id-1 label.sk-toggleable__label-arrow:hover:before {color: black;}#sk-container-id-1 div.sk-estimator:hover label.sk-toggleable__label-arrow:before {color: black;}#sk-container-id-1 div.sk-toggleable__content {max-height: 0;max-width: 0;overflow: hidden;text-align: left;background-color: #f0f8ff;}#sk-container-id-1 div.sk-toggleable__content pre {margin: 0.2em;color: black;border-radius: 0.25em;background-color: #f0f8ff;}#sk-container-id-1 input.sk-toggleable__control:checked~div.sk-toggleable__content {max-height: 200px;max-width: 100%;overflow: auto;}#sk-container-id-1 input.sk-toggleable__control:checked~label.sk-toggleable__label-arrow:before {content: \"▾\";}#sk-container-id-1 div.sk-estimator input.sk-toggleable__control:checked~label.sk-toggleable__label {background-color: #d4ebff;}#sk-container-id-1 div.sk-label input.sk-toggleable__control:checked~label.sk-toggleable__label {background-color: #d4ebff;}#sk-container-id-1 input.sk-hidden--visually {border: 0;clip: rect(1px 1px 1px 1px);clip: rect(1px, 1px, 1px, 1px);height: 1px;margin: -1px;overflow: hidden;padding: 0;position: absolute;width: 1px;}#sk-container-id-1 div.sk-estimator {font-family: monospace;background-color: #f0f8ff;border: 1px dotted black;border-radius: 0.25em;box-sizing: border-box;margin-bottom: 0.5em;}#sk-container-id-1 div.sk-estimator:hover {background-color: #d4ebff;}#sk-container-id-1 div.sk-parallel-item::after {content: \"\";width: 100%;border-bottom: 1px solid gray;flex-grow: 1;}#sk-container-id-1 div.sk-label:hover label.sk-toggleable__label {background-color: #d4ebff;}#sk-container-id-1 div.sk-serial::before {content: \"\";position: absolute;border-left: 1px solid gray;box-sizing: border-box;top: 0;bottom: 0;left: 50%;z-index: 0;}#sk-container-id-1 div.sk-serial {display: flex;flex-direction: column;align-items: center;background-color: white;padding-right: 0.2em;padding-left: 0.2em;position: relative;}#sk-container-id-1 div.sk-item {position: relative;z-index: 1;}#sk-container-id-1 div.sk-parallel {display: flex;align-items: stretch;justify-content: center;background-color: white;position: relative;}#sk-container-id-1 div.sk-item::before, #sk-container-id-1 div.sk-parallel-item::before {content: \"\";position: absolute;border-left: 1px solid gray;box-sizing: border-box;top: 0;bottom: 0;left: 50%;z-index: -1;}#sk-container-id-1 div.sk-parallel-item {display: flex;flex-direction: column;z-index: 1;position: relative;background-color: white;}#sk-container-id-1 div.sk-parallel-item:first-child::after {align-self: flex-end;width: 50%;}#sk-container-id-1 div.sk-parallel-item:last-child::after {align-self: flex-start;width: 50%;}#sk-container-id-1 div.sk-parallel-item:only-child::after {width: 0;}#sk-container-id-1 div.sk-dashed-wrapped {border: 1px dashed gray;margin: 0 0.4em 0.5em 0.4em;box-sizing: border-box;padding-bottom: 0.4em;background-color: white;}#sk-container-id-1 div.sk-label label {font-family: monospace;font-weight: bold;display: inline-block;line-height: 1.2em;}#sk-container-id-1 div.sk-label-container {text-align: center;}#sk-container-id-1 div.sk-container {/* jupyter's `normalize.less` sets `[hidden] { display: none; }` but bootstrap.min.css set `[hidden] { display: none !important; }` so we also need the `!important` here to be able to override the default hidden behavior on the sphinx rendered scikit-learn.org. See: https://github.com/scikit-learn/scikit-learn/issues/21755 */display: inline-block !important;position: relative;}#sk-container-id-1 div.sk-text-repr-fallback {display: none;}</style><div id=\"sk-container-id-1\" class=\"sk-top-container\"><div class=\"sk-text-repr-fallback\"><pre>LinearRegression()</pre><b>In a Jupyter environment, please rerun this cell to show the HTML representation or trust the notebook. <br />On GitHub, the HTML representation is unable to render, please try loading this page with nbviewer.org.</b></div><div class=\"sk-container\" hidden><div class=\"sk-item\"><div class=\"sk-estimator sk-toggleable\"><input class=\"sk-toggleable__control sk-hidden--visually\" id=\"sk-estimator-id-1\" type=\"checkbox\" checked><label for=\"sk-estimator-id-1\" class=\"sk-toggleable__label sk-toggleable__label-arrow\">LinearRegression</label><div class=\"sk-toggleable__content\"><pre>LinearRegression()</pre></div></div></div></div></div>"
            ]
          },
          "metadata": {},
          "execution_count": 20
        }
      ]
    },
    {
      "cell_type": "code",
      "source": [
        "#predictions on test set\n",
        "lm_reg_pred = lm_reg_model.predict(X_test)\n",
        "lm_reg_pred"
      ],
      "metadata": {
        "colab": {
          "base_uri": "https://localhost:8080/"
        },
        "id": "VZy2y3UUxhRo",
        "outputId": "cc056116-5fb3-489c-c66d-d12a82aaa9d5"
      },
      "execution_count": 21,
      "outputs": [
        {
          "output_type": "execute_result",
          "data": {
            "text/plain": [
              "array([  35.86859342,  285.79568713,  248.21771791,  200.35368288,\n",
              "        297.10805682,   -3.65373152,  327.1250638 ,  434.19051157,\n",
              "        187.69317213,  130.40609154,  113.32845982,  192.24349113,\n",
              "        137.12988148,  143.60224721,  104.17514236,   34.72381906,\n",
              "        157.27391368, -133.74707548,  213.31817831,  159.37472973,\n",
              "        302.14360299,  390.8599743 ,  294.42545504,  116.02691087,\n",
              "        101.97815369,  296.41532169,  -95.20219724,  300.93816068,\n",
              "        310.00757581,  219.20545419,  -45.92775693,  169.35912361,\n",
              "        234.77203779,  193.40366811,  288.6060283 ,  102.73107698,\n",
              "        106.51432949,  210.99591681,  119.21590196,   52.78516576,\n",
              "         80.72718672,  284.41175681,  -83.51184047,  227.49539348,\n",
              "        306.76276971,   40.16690466,  401.51533557,  250.53267576,\n",
              "         66.66060419,  111.9828782 ,  251.03979056,  342.95074691,\n",
              "        485.65877879,  311.28906889,  114.27584811, -215.20411944,\n",
              "        -25.23820425,  263.2037802 ,  361.24923877,  -90.17467873,\n",
              "          9.35666491,  531.66154103,  218.22026577,  331.15164191,\n",
              "        487.09934941, -124.7850402 ,  -91.04690201,  242.72046847,\n",
              "       -100.82260086,  357.08379315,  291.36299746,  134.43057591,\n",
              "        336.00178128,   77.54305351,  253.01410443,  411.80382209,\n",
              "          2.63444404,  344.37283506,   81.80249709,  628.624226  ,\n",
              "       -100.87902825, -167.80516183,  172.78974292,  117.72605821,\n",
              "        -26.03840086, -113.17193412,  -51.91554287,  229.72613826,\n",
              "        416.44169587,  445.72925195,  223.73768137,   71.81958861,\n",
              "        -76.53521348,  339.28899046,  371.64063846,   -5.97771052,\n",
              "        -57.03661048,  208.14285606,  103.23167658,  273.38595886,\n",
              "         72.04700687,  350.12310845, -133.18145934,  194.7369776 ,\n",
              "          2.76656667,  433.87913552,  178.65054803,  126.64142394,\n",
              "        181.67487176,   31.08921087,  120.96943544,  364.80895112,\n",
              "        -98.55061817,   44.60091988,  261.88158582,  172.16636623,\n",
              "       -271.87771399,  121.61468143,  343.28659113,  178.14925327,\n",
              "        465.393492  ,  230.20922711,  161.1420003 ,  249.24260751,\n",
              "        163.56378418,  164.90602036, -204.11254105,  198.39471222,\n",
              "        455.05774027,   33.62177675,  144.79592974,  202.43601018,\n",
              "        221.90006584,  346.38963668,  -39.79241542,  273.40015455,\n",
              "        541.26556886,  -48.74631257, -205.18910964,  150.40797984,\n",
              "        123.62364362,  206.31582389,  476.11887526,  198.36812323,\n",
              "        289.09857442,  148.00847857,  283.97892509,  -85.76476632,\n",
              "        486.76404161,  -51.35816863,  230.02239314,  279.24438945,\n",
              "        197.05109447,  185.93893596,   -8.83641184,  318.81519678,\n",
              "        102.55307569,  296.23963553,  269.62773433,  -45.10841578,\n",
              "        -58.51519177,    2.73993853,  140.12121369,  209.85954552,\n",
              "        337.49920656,  349.25918254,  268.12633748,  386.77431105,\n",
              "        422.24574736,  229.36305113,  240.21655526,  323.41780695,\n",
              "        -27.1631856 ,  132.57966571,  341.02341543,  344.63219794,\n",
              "        252.31066134, -126.08822972,  142.63342466, -298.6625558 ,\n",
              "       -265.75873734,    4.34977162,   33.78711588,  419.34421454,\n",
              "        398.64355698,  397.96039691,  -27.55148996,   85.18464663,\n",
              "         37.78788404,  367.1343549 ,  214.04999401,  281.11098396,\n",
              "        469.42747237,  132.24300401,  500.70202581,  259.75624192,\n",
              "        209.04869273,   84.37504717,  109.90123124,  -16.15194239,\n",
              "         24.84864612,  140.61716051,  -29.85149464, -221.86892223,\n",
              "        267.91966462,   87.79159761,  -49.65780471,  113.30469878,\n",
              "       -170.22053428,  -21.68179176,  488.78982424,  390.52725634,\n",
              "        112.61855913,  398.8288641 ,  597.78253489,  244.19474988,\n",
              "        261.5801996 ,  208.40392648, -195.61074912,  602.22679145,\n",
              "        118.08204659,  257.39175456, -131.80980306, -411.12884697,\n",
              "         89.30965105, -122.02012021, -163.41476774, -116.27839074,\n",
              "        158.20846165,  407.24386206,   -6.8883609 ,  258.00071919,\n",
              "        305.09185743,  129.02920415,  196.28159525,   81.18802016,\n",
              "        295.66058103,   55.43324333,  208.3175592 ,  113.04275975,\n",
              "        259.28829457,  107.63932836,  280.58725654,  284.00578614,\n",
              "        146.70927689,  450.31714318,  144.82985889,  513.3719467 ,\n",
              "        492.01948216,  141.63375604,  112.89840994,  464.43062679,\n",
              "        536.57777011,  374.29988483,  562.20535631, -115.06580142,\n",
              "        447.74309179,   32.02244936,  352.80181457, -245.75070096,\n",
              "        490.77564093,   97.3457348 ,  319.6910605 ,  315.57642146,\n",
              "         52.98634772,  390.95483779,  194.49679484,  258.398284  ,\n",
              "         16.39113019,  193.5326047 ,  286.29980745,  -11.18146876,\n",
              "        403.28537375,   45.1880007 ,  100.60007881,  386.59227037,\n",
              "        203.30769647,   98.83177684,  605.95338346, -167.53227573])"
            ]
          },
          "metadata": {},
          "execution_count": 21
        }
      ]
    },
    {
      "cell_type": "code",
      "source": [
        "sns.regplot(x=y_test,y=lm_reg_pred)"
      ],
      "metadata": {
        "colab": {
          "base_uri": "https://localhost:8080/",
          "height": 467
        },
        "id": "eZc-wDc5ySxm",
        "outputId": "12394f86-4bcc-48a1-89bb-5f3b565452b1"
      },
      "execution_count": 22,
      "outputs": [
        {
          "output_type": "execute_result",
          "data": {
            "text/plain": [
              "<Axes: xlabel='Target'>"
            ]
          },
          "metadata": {},
          "execution_count": 22
        },
        {
          "output_type": "display_data",
          "data": {
            "text/plain": [
              "<Figure size 640x480 with 1 Axes>"
            ],
            "image/png": "[encoded data removed]"
          },
          "metadata": {}
        }
      ]
    },
    {
      "cell_type": "code",
      "source": [
        "lm_predictions = lm_reg_model.predict(df_p3_test_New_features)"
      ],
      "metadata": {
        "id": "fmz4H-CnyTAq"
      },
      "execution_count": 23,
      "outputs": []
    },
    {
      "cell_type": "code",
      "source": [
        "metrics.mean_squared_error(y_test, lm_reg_pred)"
      ],
      "metadata": {
        "colab": {
          "base_uri": "https://localhost:8080/"
        },
        "id": "uEAFNwH2yTLF",
        "outputId": "9de96f75-0a4c-4ab7-9591-7f2ba7b91dda"
      },
      "execution_count": 24,
      "outputs": [
        {
          "output_type": "execute_result",
          "data": {
            "text/plain": [
              "10794.64495149472"
            ]
          },
          "metadata": {},
          "execution_count": 24
        }
      ]
    },
    {
      "cell_type": "code",
      "source": [],
      "metadata": {
        "id": "OFCUqQ11yTOd"
      },
      "execution_count": 24,
      "outputs": []
    },
    {
      "cell_type": "markdown",
      "source": [
        "RANDOM FOREST REGRESSION USING GRID SEARCH CV"
      ],
      "metadata": {
        "id": "8OWaRFM_yhyA"
      }
    },
    {
      "cell_type": "code",
      "source": [
        "#Random Forest Regression using grid search CV \n",
        "from sklearn.model_selection import GridSearchCV\n",
        "from sklearn.ensemble import RandomForestRegressor\n",
        "from sklearn import metrics\n",
        "param_grid = {'bootstrap': [True],\n",
        "              'max_depth': [50, 70, 90, 120],\n",
        "              'max_features':[2, 3, 4],\n",
        "              'min_samples_leaf': [4, 5, 6],\n",
        "              'n_estimators': [100,200,300,500]}\n",
        "rf_reg = RandomForestRegressor()\n",
        "grid_search = GridSearchCV(estimator = rf_reg, param_grid = param_grid, cv=3, n_jobs = -1, verbose = 2)"
      ],
      "metadata": {
        "id": "Lq__oBpsyTRU"
      },
      "execution_count": 25,
      "outputs": []
    },
    {
      "cell_type": "code",
      "source": [
        "grid_search.fit(X_train, y_train)"
      ],
      "metadata": {
        "colab": {
          "base_uri": "https://localhost:8080/",
          "height": 137
        },
        "id": "LEIFxIX1yTUM",
        "outputId": "17d601c0-b3e0-48cb-d475-35945570053c"
      },
      "execution_count": 26,
      "outputs": [
        {
          "output_type": "stream",
          "name": "stdout",
          "text": [
            "Fitting 3 folds for each of 144 candidates, totalling 432 fits\n"
          ]
        },
        {
          "output_type": "execute_result",
          "data": {
            "text/plain": [
              "GridSearchCV(cv=3, estimator=RandomForestRegressor(), n_jobs=-1,\n",
              "             param_grid={'bootstrap': [True], 'max_depth': [50, 70, 90, 120],\n",
              "                         'max_features': [2, 3, 4],\n",
              "                         'min_samples_leaf': [4, 5, 6],\n",
              "                         'n_estimators': [100, 200, 300, 500]},\n",
              "             verbose=2)"
            ],
            "text/html": [
              "<style>#sk-container-id-2 {color: black;background-color: white;}#sk-container-id-2 pre{padding: 0;}#sk-container-id-2 div.sk-toggleable {background-color: white;}#sk-container-id-2 label.sk-toggleable__label {cursor: pointer;display: block;width: 100%;margin-bottom: 0;padding: 0.3em;box-sizing: border-box;text-align: center;}#sk-container-id-2 label.sk-toggleable__label-arrow:before {content: \"▸\";float: left;margin-right: 0.25em;color: #696969;}#sk-container-id-2 label.sk-toggleable__label-arrow:hover:before {color: black;}#sk-container-id-2 div.sk-estimator:hover label.sk-toggleable__label-arrow:before {color: black;}#sk-container-id-2 div.sk-toggleable__content {max-height: 0;max-width: 0;overflow: hidden;text-align: left;background-color: #f0f8ff;}#sk-container-id-2 div.sk-toggleable__content pre {margin: 0.2em;color: black;border-radius: 0.25em;background-color: #f0f8ff;}#sk-container-id-2 input.sk-toggleable__control:checked~div.sk-toggleable__content {max-height: 200px;max-width: 100%;overflow: auto;}#sk-container-id-2 input.sk-toggleable__control:checked~label.sk-toggleable__label-arrow:before {content: \"▾\";}#sk-container-id-2 div.sk-estimator input.sk-toggleable__control:checked~label.sk-toggleable__label {background-color: #d4ebff;}#sk-container-id-2 div.sk-label input.sk-toggleable__control:checked~label.sk-toggleable__label {background-color: #d4ebff;}#sk-container-id-2 input.sk-hidden--visually {border: 0;clip: rect(1px 1px 1px 1px);clip: rect(1px, 1px, 1px, 1px);height: 1px;margin: -1px;overflow: hidden;padding: 0;position: absolute;width: 1px;}#sk-container-id-2 div.sk-estimator {font-family: monospace;background-color: #f0f8ff;border: 1px dotted black;border-radius: 0.25em;box-sizing: border-box;margin-bottom: 0.5em;}#sk-container-id-2 div.sk-estimator:hover {background-color: #d4ebff;}#sk-container-id-2 div.sk-parallel-item::after {content: \"\";width: 100%;border-bottom: 1px solid gray;flex-grow: 1;}#sk-container-id-2 div.sk-label:hover label.sk-toggleable__label {background-color: #d4ebff;}#sk-container-id-2 div.sk-serial::before {content: \"\";position: absolute;border-left: 1px solid gray;box-sizing: border-box;top: 0;bottom: 0;left: 50%;z-index: 0;}#sk-container-id-2 div.sk-serial {display: flex;flex-direction: column;align-items: center;background-color: white;padding-right: 0.2em;padding-left: 0.2em;position: relative;}#sk-container-id-2 div.sk-item {position: relative;z-index: 1;}#sk-container-id-2 div.sk-parallel {display: flex;align-items: stretch;justify-content: center;background-color: white;position: relative;}#sk-container-id-2 div.sk-item::before, #sk-container-id-2 div.sk-parallel-item::before {content: \"\";position: absolute;border-left: 1px solid gray;box-sizing: border-box;top: 0;bottom: 0;left: 50%;z-index: -1;}#sk-container-id-2 div.sk-parallel-item {display: flex;flex-direction: column;z-index: 1;position: relative;background-color: white;}#sk-container-id-2 div.sk-parallel-item:first-child::after {align-self: flex-end;width: 50%;}#sk-container-id-2 div.sk-parallel-item:last-child::after {align-self: flex-start;width: 50%;}#sk-container-id-2 div.sk-parallel-item:only-child::after {width: 0;}#sk-container-id-2 div.sk-dashed-wrapped {border: 1px dashed gray;margin: 0 0.4em 0.5em 0.4em;box-sizing: border-box;padding-bottom: 0.4em;background-color: white;}#sk-container-id-2 div.sk-label label {font-family: monospace;font-weight: bold;display: inline-block;line-height: 1.2em;}#sk-container-id-2 div.sk-label-container {text-align: center;}#sk-container-id-2 div.sk-container {/* jupyter's `normalize.less` sets `[hidden] { display: none; }` but bootstrap.min.css set `[hidden] { display: none !important; }` so we also need the `!important` here to be able to override the default hidden behavior on the sphinx rendered scikit-learn.org. See: https://github.com/scikit-learn/scikit-learn/issues/21755 */display: inline-block !important;position: relative;}#sk-container-id-2 div.sk-text-repr-fallback {display: none;}</style><div id=\"sk-container-id-2\" class=\"sk-top-container\"><div class=\"sk-text-repr-fallback\"><pre>GridSearchCV(cv=3, estimator=RandomForestRegressor(), n_jobs=-1,\n",
              "             param_grid={&#x27;bootstrap&#x27;: [True], &#x27;max_depth&#x27;: [50, 70, 90, 120],\n",
              "                         &#x27;max_features&#x27;: [2, 3, 4],\n",
              "                         &#x27;min_samples_leaf&#x27;: [4, 5, 6],\n",
              "                         &#x27;n_estimators&#x27;: [100, 200, 300, 500]},\n",
              "             verbose=2)</pre><b>In a Jupyter environment, please rerun this cell to show the HTML representation or trust the notebook. <br />On GitHub, the HTML representation is unable to render, please try loading this page with nbviewer.org.</b></div><div class=\"sk-container\" hidden><div class=\"sk-item sk-dashed-wrapped\"><div class=\"sk-label-container\"><div class=\"sk-label sk-toggleable\"><input class=\"sk-toggleable__control sk-hidden--visually\" id=\"sk-estimator-id-2\" type=\"checkbox\" ><label for=\"sk-estimator-id-2\" class=\"sk-toggleable__label sk-toggleable__label-arrow\">GridSearchCV</label><div class=\"sk-toggleable__content\"><pre>GridSearchCV(cv=3, estimator=RandomForestRegressor(), n_jobs=-1,\n",
              "             param_grid={&#x27;bootstrap&#x27;: [True], &#x27;max_depth&#x27;: [50, 70, 90, 120],\n",
              "                         &#x27;max_features&#x27;: [2, 3, 4],\n",
              "                         &#x27;min_samples_leaf&#x27;: [4, 5, 6],\n",
              "                         &#x27;n_estimators&#x27;: [100, 200, 300, 500]},\n",
              "             verbose=2)</pre></div></div></div><div class=\"sk-parallel\"><div class=\"sk-parallel-item\"><div class=\"sk-item\"><div class=\"sk-label-container\"><div class=\"sk-label sk-toggleable\"><input class=\"sk-toggleable__control sk-hidden--visually\" id=\"sk-estimator-id-3\" type=\"checkbox\" ><label for=\"sk-estimator-id-3\" class=\"sk-toggleable__label sk-toggleable__label-arrow\">estimator: RandomForestRegressor</label><div class=\"sk-toggleable__content\"><pre>RandomForestRegressor()</pre></div></div></div><div class=\"sk-serial\"><div class=\"sk-item\"><div class=\"sk-estimator sk-toggleable\"><input class=\"sk-toggleable__control sk-hidden--visually\" id=\"sk-estimator-id-4\" type=\"checkbox\" ><label for=\"sk-estimator-id-4\" class=\"sk-toggleable__label sk-toggleable__label-arrow\">RandomForestRegressor</label><div class=\"sk-toggleable__content\"><pre>RandomForestRegressor()</pre></div></div></div></div></div></div></div></div></div></div>"
            ]
          },
          "metadata": {},
          "execution_count": 26
        }
      ]
    },
    {
      "cell_type": "code",
      "source": [
        "print(grid_search.best_estimator_)"
      ],
      "metadata": {
        "colab": {
          "base_uri": "https://localhost:8080/"
        },
        "id": "Af4tEH0WyTWy",
        "outputId": "3ac6fd5d-cf37-47a3-95ef-acc81ecde6db"
      },
      "execution_count": 27,
      "outputs": [
        {
          "output_type": "stream",
          "name": "stdout",
          "text": [
            "RandomForestRegressor(max_depth=90, max_features=4, min_samples_leaf=4,\n",
            "                      n_estimators=500)\n"
          ]
        }
      ]
    },
    {
      "cell_type": "code",
      "source": [
        "best_rf_regcv = RandomForestRegressor(max_depth=50, max_features=4, min_samples_leaf=4, n_estimators=500, random_state=10)\n",
        "best_rf_regcv.fit(X_train, y_train)"
      ],
      "metadata": {
        "colab": {
          "base_uri": "https://localhost:8080/",
          "height": 92
        },
        "id": "JWBJqjSsyTZJ",
        "outputId": "c8e805f5-69f4-4cdd-eef7-b0c6a1380b4c"
      },
      "execution_count": 28,
      "outputs": [
        {
          "output_type": "execute_result",
          "data": {
            "text/plain": [
              "RandomForestRegressor(max_depth=50, max_features=4, min_samples_leaf=4,\n",
              "                      n_estimators=500, random_state=10)"
            ],
            "text/html": [
              "<style>#sk-container-id-3 {color: black;background-color: white;}#sk-container-id-3 pre{padding: 0;}#sk-container-id-3 div.sk-toggleable {background-color: white;}#sk-container-id-3 label.sk-toggleable__label {cursor: pointer;display: block;width: 100%;margin-bottom: 0;padding: 0.3em;box-sizing: border-box;text-align: center;}#sk-container-id-3 label.sk-toggleable__label-arrow:before {content: \"▸\";float: left;margin-right: 0.25em;color: #696969;}#sk-container-id-3 label.sk-toggleable__label-arrow:hover:before {color: black;}#sk-container-id-3 div.sk-estimator:hover label.sk-toggleable__label-arrow:before {color: black;}#sk-container-id-3 div.sk-toggleable__content {max-height: 0;max-width: 0;overflow: hidden;text-align: left;background-color: #f0f8ff;}#sk-container-id-3 div.sk-toggleable__content pre {margin: 0.2em;color: black;border-radius: 0.25em;background-color: #f0f8ff;}#sk-container-id-3 input.sk-toggleable__control:checked~div.sk-toggleable__content {max-height: 200px;max-width: 100%;overflow: auto;}#sk-container-id-3 input.sk-toggleable__control:checked~label.sk-toggleable__label-arrow:before {content: \"▾\";}#sk-container-id-3 div.sk-estimator input.sk-toggleable__control:checked~label.sk-toggleable__label {background-color: #d4ebff;}#sk-container-id-3 div.sk-label input.sk-toggleable__control:checked~label.sk-toggleable__label {background-color: #d4ebff;}#sk-container-id-3 input.sk-hidden--visually {border: 0;clip: rect(1px 1px 1px 1px);clip: rect(1px, 1px, 1px, 1px);height: 1px;margin: -1px;overflow: hidden;padding: 0;position: absolute;width: 1px;}#sk-container-id-3 div.sk-estimator {font-family: monospace;background-color: #f0f8ff;border: 1px dotted black;border-radius: 0.25em;box-sizing: border-box;margin-bottom: 0.5em;}#sk-container-id-3 div.sk-estimator:hover {background-color: #d4ebff;}#sk-container-id-3 div.sk-parallel-item::after {content: \"\";width: 100%;border-bottom: 1px solid gray;flex-grow: 1;}#sk-container-id-3 div.sk-label:hover label.sk-toggleable__label {background-color: #d4ebff;}#sk-container-id-3 div.sk-serial::before {content: \"\";position: absolute;border-left: 1px solid gray;box-sizing: border-box;top: 0;bottom: 0;left: 50%;z-index: 0;}#sk-container-id-3 div.sk-serial {display: flex;flex-direction: column;align-items: center;background-color: white;padding-right: 0.2em;padding-left: 0.2em;position: relative;}#sk-container-id-3 div.sk-item {position: relative;z-index: 1;}#sk-container-id-3 div.sk-parallel {display: flex;align-items: stretch;justify-content: center;background-color: white;position: relative;}#sk-container-id-3 div.sk-item::before, #sk-container-id-3 div.sk-parallel-item::before {content: \"\";position: absolute;border-left: 1px solid gray;box-sizing: border-box;top: 0;bottom: 0;left: 50%;z-index: -1;}#sk-container-id-3 div.sk-parallel-item {display: flex;flex-direction: column;z-index: 1;position: relative;background-color: white;}#sk-container-id-3 div.sk-parallel-item:first-child::after {align-self: flex-end;width: 50%;}#sk-container-id-3 div.sk-parallel-item:last-child::after {align-self: flex-start;width: 50%;}#sk-container-id-3 div.sk-parallel-item:only-child::after {width: 0;}#sk-container-id-3 div.sk-dashed-wrapped {border: 1px dashed gray;margin: 0 0.4em 0.5em 0.4em;box-sizing: border-box;padding-bottom: 0.4em;background-color: white;}#sk-container-id-3 div.sk-label label {font-family: monospace;font-weight: bold;display: inline-block;line-height: 1.2em;}#sk-container-id-3 div.sk-label-container {text-align: center;}#sk-container-id-3 div.sk-container {/* jupyter's `normalize.less` sets `[hidden] { display: none; }` but bootstrap.min.css set `[hidden] { display: none !important; }` so we also need the `!important` here to be able to override the default hidden behavior on the sphinx rendered scikit-learn.org. See: https://github.com/scikit-learn/scikit-learn/issues/21755 */display: inline-block !important;position: relative;}#sk-container-id-3 div.sk-text-repr-fallback {display: none;}</style><div id=\"sk-container-id-3\" class=\"sk-top-container\"><div class=\"sk-text-repr-fallback\"><pre>RandomForestRegressor(max_depth=50, max_features=4, min_samples_leaf=4,\n",
              "                      n_estimators=500, random_state=10)</pre><b>In a Jupyter environment, please rerun this cell to show the HTML representation or trust the notebook. <br />On GitHub, the HTML representation is unable to render, please try loading this page with nbviewer.org.</b></div><div class=\"sk-container\" hidden><div class=\"sk-item\"><div class=\"sk-estimator sk-toggleable\"><input class=\"sk-toggleable__control sk-hidden--visually\" id=\"sk-estimator-id-5\" type=\"checkbox\" checked><label for=\"sk-estimator-id-5\" class=\"sk-toggleable__label sk-toggleable__label-arrow\">RandomForestRegressor</label><div class=\"sk-toggleable__content\"><pre>RandomForestRegressor(max_depth=50, max_features=4, min_samples_leaf=4,\n",
              "                      n_estimators=500, random_state=10)</pre></div></div></div></div></div>"
            ]
          },
          "metadata": {},
          "execution_count": 28
        }
      ]
    },
    {
      "cell_type": "code",
      "source": [
        "pred_re_regcv = best_rf_regcv.predict(X_test)\n",
        "pred_re_regcv"
      ],
      "metadata": {
        "colab": {
          "base_uri": "https://localhost:8080/"
        },
        "id": "2joO3nmgyTbv",
        "outputId": "476309fe-43c5-4d27-edb7-c100954e0533"
      },
      "execution_count": 29,
      "outputs": [
        {
          "output_type": "execute_result",
          "data": {
            "text/plain": [
              "array([116.00532118, 193.87758859, 215.4467041 , 200.23642669,\n",
              "       245.78806925, 116.35106259, 196.34314546, 224.28417084,\n",
              "       183.45977726, 138.37322511, 165.09424255, 217.626065  ,\n",
              "       162.15293007, 125.75541044, 133.54544937, 137.14307476,\n",
              "       114.45375626, 124.6520457 , 100.43571645, 212.12654413,\n",
              "       209.68545025, 245.69882398, 273.51892205, 168.71050003,\n",
              "       132.97739977, 246.59480259,  84.57362885, 261.67932688,\n",
              "       245.77298543, 157.27375047, 105.43259925, 159.47318379,\n",
              "       190.36240668, 192.73379535, 263.91567127, 105.8926824 ,\n",
              "       111.15678256, 169.51676203, 136.25529472, 100.12810911,\n",
              "       138.37081433, 243.17640289, 112.61052237, 177.37266519,\n",
              "       250.28340538,  95.50699606, 329.40188942, 224.23347438,\n",
              "       117.81834096, 135.91962996, 274.5182728 , 247.66394129,\n",
              "       365.87171974, 189.67513423, 158.24109741,  70.57508889,\n",
              "       124.31052359, 232.87351919, 351.38420442,  86.23741945,\n",
              "       107.30391772, 344.74179778, 174.83902365, 279.80955434,\n",
              "       285.59520668,  69.59280552,  98.89272403, 209.18429191,\n",
              "       104.89355621, 318.24357752, 238.42214827, 197.59574653,\n",
              "       253.76308163, 103.21216462, 223.05162283, 263.86860953,\n",
              "       141.9779522 , 171.08690915, 149.41824127, 421.38039675,\n",
              "        78.64847665,  34.72467131, 163.04666955, 191.68049977,\n",
              "        95.59143769, 120.92857424,  71.79600347, 151.48225429,\n",
              "       284.22375026, 261.85983029, 150.7456381 , 125.86414041,\n",
              "       120.10442595, 253.90505315, 242.9948924 ,  70.68458837,\n",
              "        89.58949628, 157.07107627, 122.48238326, 188.13218614,\n",
              "       143.80412812, 231.18707824, 120.2043799 , 133.6277384 ,\n",
              "       121.03590328, 310.12281101, 149.91655082, 139.6370462 ,\n",
              "       150.39130261, 127.56504979, 141.05163624, 254.83304377,\n",
              "        68.2686822 , 107.34390702, 222.67591398, 152.52596376,\n",
              "        39.23313498, 142.23104582, 256.62272958, 131.92707073,\n",
              "       262.03521926, 203.87373074, 167.84174555, 176.41810404,\n",
              "       172.85363908, 174.93649671,  63.27655928, 200.00273971,\n",
              "       284.4417522 , 107.34082878, 125.47957656, 164.93504368,\n",
              "       123.8368984 , 226.86563002,  64.24248713, 253.62948914,\n",
              "       352.3205084 , 121.26470709,  69.49291005, 158.32073243,\n",
              "       139.81958004, 132.95854557, 282.83620808, 195.24490484,\n",
              "       212.93933672, 110.16916978, 286.14022769, 109.69168193,\n",
              "       337.24882302, 102.79574377, 209.35298952, 295.81009552,\n",
              "       164.42474948, 157.28113814,  79.19751584, 283.29581244,\n",
              "       156.29997623, 202.57213502, 132.96106047, 119.03952121,\n",
              "        83.39168   ,  85.62026058, 165.37809969, 154.59708619,\n",
              "       221.32825613, 228.3505845 , 196.59969336, 233.77942966,\n",
              "       301.52611455, 155.65638253, 176.79652223, 280.9261362 ,\n",
              "       169.50337776, 160.33592793, 213.62433822, 268.27907354,\n",
              "       164.3473637 , 112.26696651, 112.75661712,  67.21578613,\n",
              "        54.17980549,  86.60958392, 120.78538933, 298.39313751,\n",
              "       357.58727363, 288.68798519, 139.16133877, 126.52876552,\n",
              "       147.51536776, 182.58090984, 219.14178593, 255.22844685,\n",
              "       249.30115459, 131.22170042, 297.59844201, 212.44592212,\n",
              "       131.24651779, 109.88749889, 136.04868804,  68.60852472,\n",
              "        80.19607456, 114.84188026, 132.50941912,  90.22421567,\n",
              "       250.65847115, 171.06323408,  89.06477959, 148.24922137,\n",
              "        46.07875846, 129.59952599, 301.44093781, 357.7792232 ,\n",
              "       132.16443916, 232.308146  , 326.34706385, 270.99825514,\n",
              "       166.78584234, 197.6104968 ,  54.86818214, 399.68451072,\n",
              "       133.5182697 , 204.28192623,  90.13334157, 102.28298872,\n",
              "        70.9043641 ,  89.023844  ,  63.67866134,  74.60119141,\n",
              "       127.65160895, 298.76097561, 168.60122831, 239.79934012,\n",
              "       206.38221356, 135.29615899, 224.26781854, 156.29486507,\n",
              "       237.65593374, 121.72794204, 210.15387994, 153.05800333,\n",
              "       252.73797051, 113.11989045, 231.73851802, 243.79936555,\n",
              "       130.24052307, 315.7325063 , 189.74773743, 400.65702253,\n",
              "       248.0107192 , 135.36551471, 128.69667981, 300.35442056,\n",
              "       337.13198212, 295.71556052, 391.99759055, 130.71840497,\n",
              "       281.78565455, 140.41208281, 235.81089156,  79.3848351 ,\n",
              "       284.80655817, 155.72409394, 233.62085743, 279.92966902,\n",
              "       206.60483866, 244.27194485, 177.35098556, 178.28826528,\n",
              "       128.57565454, 163.09490256, 251.36810222, 108.24616371,\n",
              "       272.35023347, 120.02596094, 160.52043603, 249.43217853,\n",
              "       210.10917771, 113.59285206, 374.50565794,  81.95608491])"
            ]
          },
          "metadata": {},
          "execution_count": 29
        }
      ]
    },
    {
      "cell_type": "code",
      "source": [
        "#predections on new data\n",
        "predictions_new = best_rf_regcv.predict(df_p3_test_New_features)\n",
        "predictions_new"
      ],
      "metadata": {
        "colab": {
          "base_uri": "https://localhost:8080/"
        },
        "id": "yO13V1y-0AEC",
        "outputId": "53a9b6d8-1585-47d3-c1fd-85137c845385"
      },
      "execution_count": 30,
      "outputs": [
        {
          "output_type": "execute_result",
          "data": {
            "text/plain": [
              "array([ 84.96435747, 162.09712166, 378.37848866, ..., 124.65156887,\n",
              "       247.04813678, 116.55958464])"
            ]
          },
          "metadata": {},
          "execution_count": 30
        }
      ]
    },
    {
      "cell_type": "code",
      "source": [
        "# Mean square error of the bestfit model\n",
        "metrics.mean_squared_error(y_test, pred_re_regcv)"
      ],
      "metadata": {
        "colab": {
          "base_uri": "https://localhost:8080/"
        },
        "id": "rORBythZ0AMn",
        "outputId": "5d5b19bb-d4b3-4bd2-e9b8-cd6c3ab66fb7"
      },
      "execution_count": 31,
      "outputs": [
        {
          "output_type": "execute_result",
          "data": {
            "text/plain": [
              "20931.888415245026"
            ]
          },
          "metadata": {},
          "execution_count": 31
        }
      ]
    },
    {
      "cell_type": "code",
      "source": [],
      "metadata": {
        "id": "_RbdlPHK0APf"
      },
      "execution_count": 31,
      "outputs": []
    },
    {
      "cell_type": "markdown",
      "source": [
        "DECISION TREE REGRESSOR\n"
      ],
      "metadata": {
        "id": "9dZm5DlH0PHV"
      }
    },
    {
      "cell_type": "code",
      "source": [
        "# using Decesion Tree Regressor to predict the values\n",
        "from sklearn.tree import DecisionTreeRegressor\n",
        "from sklearn.metrics import mean_squared_error as mse\n",
        "\n",
        "max_depths = range(1, 20)\n",
        "train_error = []\n",
        "for max_depth in max_depths:\n",
        "    model_1 = DecisionTreeRegressor(max_depth=max_depth)\n",
        "    model_1.fit(data_p3_edited_features, data_p3_edited_outcome)\n",
        "    train_error.append(mse(data_p3_edited_outcome, model_1.predict(data_p3_edited_features)))\n",
        "    \n",
        "test_error = []\n",
        "for max_depth in max_depths:\n",
        "    model_2 = DecisionTreeRegressor(max_depth=max_depth)\n",
        "    model_2.fit(X_train, y_train)\n",
        "    test_error.append(mse(y_test, model_2.predict(X_test)))\n",
        "\n",
        "plt.plot(max_depths, train_error, color='orange', label='Training error')\n",
        "plt.plot(max_depths, test_error, color='blue', label='Testing error')\n",
        "plt.xlabel('Tree depth')\n",
        "plt.axvline(x=5, color='pink', linestyle='--')\n",
        "plt.annotate('optimum = 5', xy=(7.5, 1.17), color='red')\n",
        "plt.ylabel('Mean squared error')\n",
        "plt.title('Hyperparameter Tuning', pad=15, size=15)\n",
        "plt.legend()\n",
        "plt.savefig('error.png')"
      ],
      "metadata": {
        "colab": {
          "base_uri": "https://localhost:8080/",
          "height": 486
        },
        "id": "PfV5eTbW0ASG",
        "outputId": "8ae27f31-f4e9-42a5-d30c-b838d9fac701"
      },
      "execution_count": 32,
      "outputs": [
        {
          "output_type": "display_data",
          "data": {
            "text/plain": [
              "<Figure size 640x480 with 1 Axes>"
            ],
            "image/png": "[encoded data removed]"
          },
          "metadata": {}
        }
      ]
    },
    {
      "cell_type": "code",
      "source": [
        "# performing grid search CV\n",
        "\n",
        "model_dtr = DecisionTreeRegressor()\n",
        "gridsearch_dtr = GridSearchCV(model_dtr,\n",
        "                  param_grid = {'max_depth': range(1, 10),\n",
        "                                'min_samples_split': range(10, 30, 10)},\n",
        "                  cv=5,\n",
        "                  n_jobs=-1,\n",
        "                  scoring='neg_mean_squared_error')\n",
        "gridsearch_dtr.fit(X_train, y_train)"
      ],
      "metadata": {
        "colab": {
          "base_uri": "https://localhost:8080/",
          "height": 118
        },
        "id": "aQG-psTC0AUs",
        "outputId": "6143f6c1-cf89-45e9-97b9-a336dcfa0027"
      },
      "execution_count": 33,
      "outputs": [
        {
          "output_type": "execute_result",
          "data": {
            "text/plain": [
              "GridSearchCV(cv=5, estimator=DecisionTreeRegressor(), n_jobs=-1,\n",
              "             param_grid={'max_depth': range(1, 10),\n",
              "                         'min_samples_split': range(10, 30, 10)},\n",
              "             scoring='neg_mean_squared_error')"
            ],
            "text/html": [
              "<style>#sk-container-id-4 {color: black;background-color: white;}#sk-container-id-4 pre{padding: 0;}#sk-container-id-4 div.sk-toggleable {background-color: white;}#sk-container-id-4 label.sk-toggleable__label {cursor: pointer;display: block;width: 100%;margin-bottom: 0;padding: 0.3em;box-sizing: border-box;text-align: center;}#sk-container-id-4 label.sk-toggleable__label-arrow:before {content: \"▸\";float: left;margin-right: 0.25em;color: #696969;}#sk-container-id-4 label.sk-toggleable__label-arrow:hover:before {color: black;}#sk-container-id-4 div.sk-estimator:hover label.sk-toggleable__label-arrow:before {color: black;}#sk-container-id-4 div.sk-toggleable__content {max-height: 0;max-width: 0;overflow: hidden;text-align: left;background-color: #f0f8ff;}#sk-container-id-4 div.sk-toggleable__content pre {margin: 0.2em;color: black;border-radius: 0.25em;background-color: #f0f8ff;}#sk-container-id-4 input.sk-toggleable__control:checked~div.sk-toggleable__content {max-height: 200px;max-width: 100%;overflow: auto;}#sk-container-id-4 input.sk-toggleable__control:checked~label.sk-toggleable__label-arrow:before {content: \"▾\";}#sk-container-id-4 div.sk-estimator input.sk-toggleable__control:checked~label.sk-toggleable__label {background-color: #d4ebff;}#sk-container-id-4 div.sk-label input.sk-toggleable__control:checked~label.sk-toggleable__label {background-color: #d4ebff;}#sk-container-id-4 input.sk-hidden--visually {border: 0;clip: rect(1px 1px 1px 1px);clip: rect(1px, 1px, 1px, 1px);height: 1px;margin: -1px;overflow: hidden;padding: 0;position: absolute;width: 1px;}#sk-container-id-4 div.sk-estimator {font-family: monospace;background-color: #f0f8ff;border: 1px dotted black;border-radius: 0.25em;box-sizing: border-box;margin-bottom: 0.5em;}#sk-container-id-4 div.sk-estimator:hover {background-color: #d4ebff;}#sk-container-id-4 div.sk-parallel-item::after {content: \"\";width: 100%;border-bottom: 1px solid gray;flex-grow: 1;}#sk-container-id-4 div.sk-label:hover label.sk-toggleable__label {background-color: #d4ebff;}#sk-container-id-4 div.sk-serial::before {content: \"\";position: absolute;border-left: 1px solid gray;box-sizing: border-box;top: 0;bottom: 0;left: 50%;z-index: 0;}#sk-container-id-4 div.sk-serial {display: flex;flex-direction: column;align-items: center;background-color: white;padding-right: 0.2em;padding-left: 0.2em;position: relative;}#sk-container-id-4 div.sk-item {position: relative;z-index: 1;}#sk-container-id-4 div.sk-parallel {display: flex;align-items: stretch;justify-content: center;background-color: white;position: relative;}#sk-container-id-4 div.sk-item::before, #sk-container-id-4 div.sk-parallel-item::before {content: \"\";position: absolute;border-left: 1px solid gray;box-sizing: border-box;top: 0;bottom: 0;left: 50%;z-index: -1;}#sk-container-id-4 div.sk-parallel-item {display: flex;flex-direction: column;z-index: 1;position: relative;background-color: white;}#sk-container-id-4 div.sk-parallel-item:first-child::after {align-self: flex-end;width: 50%;}#sk-container-id-4 div.sk-parallel-item:last-child::after {align-self: flex-start;width: 50%;}#sk-container-id-4 div.sk-parallel-item:only-child::after {width: 0;}#sk-container-id-4 div.sk-dashed-wrapped {border: 1px dashed gray;margin: 0 0.4em 0.5em 0.4em;box-sizing: border-box;padding-bottom: 0.4em;background-color: white;}#sk-container-id-4 div.sk-label label {font-family: monospace;font-weight: bold;display: inline-block;line-height: 1.2em;}#sk-container-id-4 div.sk-label-container {text-align: center;}#sk-container-id-4 div.sk-container {/* jupyter's `normalize.less` sets `[hidden] { display: none; }` but bootstrap.min.css set `[hidden] { display: none !important; }` so we also need the `!important` here to be able to override the default hidden behavior on the sphinx rendered scikit-learn.org. See: https://github.com/scikit-learn/scikit-learn/issues/21755 */display: inline-block !important;position: relative;}#sk-container-id-4 div.sk-text-repr-fallback {display: none;}</style><div id=\"sk-container-id-4\" class=\"sk-top-container\"><div class=\"sk-text-repr-fallback\"><pre>GridSearchCV(cv=5, estimator=DecisionTreeRegressor(), n_jobs=-1,\n",
              "             param_grid={&#x27;max_depth&#x27;: range(1, 10),\n",
              "                         &#x27;min_samples_split&#x27;: range(10, 30, 10)},\n",
              "             scoring=&#x27;neg_mean_squared_error&#x27;)</pre><b>In a Jupyter environment, please rerun this cell to show the HTML representation or trust the notebook. <br />On GitHub, the HTML representation is unable to render, please try loading this page with nbviewer.org.</b></div><div class=\"sk-container\" hidden><div class=\"sk-item sk-dashed-wrapped\"><div class=\"sk-label-container\"><div class=\"sk-label sk-toggleable\"><input class=\"sk-toggleable__control sk-hidden--visually\" id=\"sk-estimator-id-6\" type=\"checkbox\" ><label for=\"sk-estimator-id-6\" class=\"sk-toggleable__label sk-toggleable__label-arrow\">GridSearchCV</label><div class=\"sk-toggleable__content\"><pre>GridSearchCV(cv=5, estimator=DecisionTreeRegressor(), n_jobs=-1,\n",
              "             param_grid={&#x27;max_depth&#x27;: range(1, 10),\n",
              "                         &#x27;min_samples_split&#x27;: range(10, 30, 10)},\n",
              "             scoring=&#x27;neg_mean_squared_error&#x27;)</pre></div></div></div><div class=\"sk-parallel\"><div class=\"sk-parallel-item\"><div class=\"sk-item\"><div class=\"sk-label-container\"><div class=\"sk-label sk-toggleable\"><input class=\"sk-toggleable__control sk-hidden--visually\" id=\"sk-estimator-id-7\" type=\"checkbox\" ><label for=\"sk-estimator-id-7\" class=\"sk-toggleable__label sk-toggleable__label-arrow\">estimator: DecisionTreeRegressor</label><div class=\"sk-toggleable__content\"><pre>DecisionTreeRegressor()</pre></div></div></div><div class=\"sk-serial\"><div class=\"sk-item\"><div class=\"sk-estimator sk-toggleable\"><input class=\"sk-toggleable__control sk-hidden--visually\" id=\"sk-estimator-id-8\" type=\"checkbox\" ><label for=\"sk-estimator-id-8\" class=\"sk-toggleable__label sk-toggleable__label-arrow\">DecisionTreeRegressor</label><div class=\"sk-toggleable__content\"><pre>DecisionTreeRegressor()</pre></div></div></div></div></div></div></div></div></div></div>"
            ]
          },
          "metadata": {},
          "execution_count": 33
        }
      ]
    },
    {
      "cell_type": "code",
      "source": [
        "print(gridsearch_dtr.best_params_)"
      ],
      "metadata": {
        "colab": {
          "base_uri": "https://localhost:8080/"
        },
        "id": "isMQlFk_0AXS",
        "outputId": "54bd42f2-7791-4796-b8bf-89986f64fd2c"
      },
      "execution_count": 34,
      "outputs": [
        {
          "output_type": "stream",
          "name": "stdout",
          "text": [
            "{'max_depth': 5, 'min_samples_split': 20}\n"
          ]
        }
      ]
    },
    {
      "cell_type": "code",
      "source": [
        "#applying the best parameters from above results to train the model\n",
        "new_model = DecisionTreeRegressor(max_depth=6,\n",
        "                                  min_samples_split=20)\n",
        "new_model.fit(X_train, y_train)"
      ],
      "metadata": {
        "colab": {
          "base_uri": "https://localhost:8080/",
          "height": 75
        },
        "id": "uIZXb9Qs0pHK",
        "outputId": "50fbcbf8-6f90-470b-ee62-3d0763da433b"
      },
      "execution_count": 35,
      "outputs": [
        {
          "output_type": "execute_result",
          "data": {
            "text/plain": [
              "DecisionTreeRegressor(max_depth=6, min_samples_split=20)"
            ],
            "text/html": [
              "<style>#sk-container-id-5 {color: black;background-color: white;}#sk-container-id-5 pre{padding: 0;}#sk-container-id-5 div.sk-toggleable {background-color: white;}#sk-container-id-5 label.sk-toggleable__label {cursor: pointer;display: block;width: 100%;margin-bottom: 0;padding: 0.3em;box-sizing: border-box;text-align: center;}#sk-container-id-5 label.sk-toggleable__label-arrow:before {content: \"▸\";float: left;margin-right: 0.25em;color: #696969;}#sk-container-id-5 label.sk-toggleable__label-arrow:hover:before {color: black;}#sk-container-id-5 div.sk-estimator:hover label.sk-toggleable__label-arrow:before {color: black;}#sk-container-id-5 div.sk-toggleable__content {max-height: 0;max-width: 0;overflow: hidden;text-align: left;background-color: #f0f8ff;}#sk-container-id-5 div.sk-toggleable__content pre {margin: 0.2em;color: black;border-radius: 0.25em;background-color: #f0f8ff;}#sk-container-id-5 input.sk-toggleable__control:checked~div.sk-toggleable__content {max-height: 200px;max-width: 100%;overflow: auto;}#sk-container-id-5 input.sk-toggleable__control:checked~label.sk-toggleable__label-arrow:before {content: \"▾\";}#sk-container-id-5 div.sk-estimator input.sk-toggleable__control:checked~label.sk-toggleable__label {background-color: #d4ebff;}#sk-container-id-5 div.sk-label input.sk-toggleable__control:checked~label.sk-toggleable__label {background-color: #d4ebff;}#sk-container-id-5 input.sk-hidden--visually {border: 0;clip: rect(1px 1px 1px 1px);clip: rect(1px, 1px, 1px, 1px);height: 1px;margin: -1px;overflow: hidden;padding: 0;position: absolute;width: 1px;}#sk-container-id-5 div.sk-estimator {font-family: monospace;background-color: #f0f8ff;border: 1px dotted black;border-radius: 0.25em;box-sizing: border-box;margin-bottom: 0.5em;}#sk-container-id-5 div.sk-estimator:hover {background-color: #d4ebff;}#sk-container-id-5 div.sk-parallel-item::after {content: \"\";width: 100%;border-bottom: 1px solid gray;flex-grow: 1;}#sk-container-id-5 div.sk-label:hover label.sk-toggleable__label {background-color: #d4ebff;}#sk-container-id-5 div.sk-serial::before {content: \"\";position: absolute;border-left: 1px solid gray;box-sizing: border-box;top: 0;bottom: 0;left: 50%;z-index: 0;}#sk-container-id-5 div.sk-serial {display: flex;flex-direction: column;align-items: center;background-color: white;padding-right: 0.2em;padding-left: 0.2em;position: relative;}#sk-container-id-5 div.sk-item {position: relative;z-index: 1;}#sk-container-id-5 div.sk-parallel {display: flex;align-items: stretch;justify-content: center;background-color: white;position: relative;}#sk-container-id-5 div.sk-item::before, #sk-container-id-5 div.sk-parallel-item::before {content: \"\";position: absolute;border-left: 1px solid gray;box-sizing: border-box;top: 0;bottom: 0;left: 50%;z-index: -1;}#sk-container-id-5 div.sk-parallel-item {display: flex;flex-direction: column;z-index: 1;position: relative;background-color: white;}#sk-container-id-5 div.sk-parallel-item:first-child::after {align-self: flex-end;width: 50%;}#sk-container-id-5 div.sk-parallel-item:last-child::after {align-self: flex-start;width: 50%;}#sk-container-id-5 div.sk-parallel-item:only-child::after {width: 0;}#sk-container-id-5 div.sk-dashed-wrapped {border: 1px dashed gray;margin: 0 0.4em 0.5em 0.4em;box-sizing: border-box;padding-bottom: 0.4em;background-color: white;}#sk-container-id-5 div.sk-label label {font-family: monospace;font-weight: bold;display: inline-block;line-height: 1.2em;}#sk-container-id-5 div.sk-label-container {text-align: center;}#sk-container-id-5 div.sk-container {/* jupyter's `normalize.less` sets `[hidden] { display: none; }` but bootstrap.min.css set `[hidden] { display: none !important; }` so we also need the `!important` here to be able to override the default hidden behavior on the sphinx rendered scikit-learn.org. See: https://github.com/scikit-learn/scikit-learn/issues/21755 */display: inline-block !important;position: relative;}#sk-container-id-5 div.sk-text-repr-fallback {display: none;}</style><div id=\"sk-container-id-5\" class=\"sk-top-container\"><div class=\"sk-text-repr-fallback\"><pre>DecisionTreeRegressor(max_depth=6, min_samples_split=20)</pre><b>In a Jupyter environment, please rerun this cell to show the HTML representation or trust the notebook. <br />On GitHub, the HTML representation is unable to render, please try loading this page with nbviewer.org.</b></div><div class=\"sk-container\" hidden><div class=\"sk-item\"><div class=\"sk-estimator sk-toggleable\"><input class=\"sk-toggleable__control sk-hidden--visually\" id=\"sk-estimator-id-9\" type=\"checkbox\" checked><label for=\"sk-estimator-id-9\" class=\"sk-toggleable__label sk-toggleable__label-arrow\">DecisionTreeRegressor</label><div class=\"sk-toggleable__content\"><pre>DecisionTreeRegressor(max_depth=6, min_samples_split=20)</pre></div></div></div></div></div>"
            ]
          },
          "metadata": {},
          "execution_count": 35
        }
      ]
    },
    {
      "cell_type": "code",
      "source": [
        "#new predictions on test data\n",
        "predictions = new_model.predict(X_test)\n",
        "predictions"
      ],
      "metadata": {
        "colab": {
          "base_uri": "https://localhost:8080/"
        },
        "id": "xM2JCaj-0pOJ",
        "outputId": "019c15c4-115b-4c4d-a529-33189a2ab662"
      },
      "execution_count": 36,
      "outputs": [
        {
          "output_type": "execute_result",
          "data": {
            "text/plain": [
              "array([ 69.00772727, 283.94657143, 377.16346154, 279.16777778,\n",
              "        28.08176471,  20.72680556,  33.10741379, 128.83181818,\n",
              "       131.20909091,  33.10741379, 286.2       , 254.37148148,\n",
              "       109.54641026,   3.37103226, 109.54641026,  33.10741379,\n",
              "       266.94625   ,   3.37103226,   3.37103226, 127.77181818,\n",
              "       492.33333333, 492.33333333, 333.0935    ,  37.76387097,\n",
              "         3.37103226, 333.0935    , 109.54641026, 333.0935    ,\n",
              "       127.77181818,  99.40636364,  51.5       ,  69.00772727,\n",
              "       190.04392857, 283.94657143, 283.94657143,   3.37103226,\n",
              "        15.12029412, 190.04392857, 109.54641026,   3.37103226,\n",
              "       266.94625   , 374.96333333,   3.37103226, 109.54641026,\n",
              "       283.94657143, 134.96181818, 333.0935    , 131.20909091,\n",
              "        15.12029412, 109.54641026, 333.0935    , 283.94657143,\n",
              "       696.50051282, 279.16777778, 179.265     ,  51.5       ,\n",
              "        20.72680556, 190.04392857, 696.50051282, 109.54641026,\n",
              "         3.37103226, 377.16346154,  33.10741379, 333.0935    ,\n",
              "       493.69      ,  20.72680556,   3.37103226, 602.80142857,\n",
              "       266.94625   , 333.0935    , 283.94657143, 333.0935    ,\n",
              "       109.54641026, 109.54641026, 254.37148148, 377.16346154,\n",
              "       266.94625   , 122.05285714,   3.37103226, 696.50051282,\n",
              "         3.37103226,   3.37103226,   3.37103226, 109.54641026,\n",
              "        33.10741379, 134.96181818,  51.5       , 131.20909091,\n",
              "       602.80142857, 413.98235294, 279.16777778,   3.37103226,\n",
              "        99.40636364, 283.94657143,  28.08176471,  33.10741379,\n",
              "        51.5       ,  15.12029412, 266.94625   ,  49.13266667,\n",
              "        49.13266667, 190.04392857,  15.12029412,  33.10741379,\n",
              "         3.37103226, 413.98235294,  49.13266667,  15.12029412,\n",
              "       131.20909091, 137.95666667,  20.72680556, 493.69      ,\n",
              "         3.37103226,  33.10741379, 377.16346154, 286.2       ,\n",
              "         3.37103226,  33.10741379,  28.08176471,   3.37103226,\n",
              "       377.16346154, 318.148125  , 374.96333333,  33.10741379,\n",
              "         3.37103226, 179.265     ,  28.08176471,  69.00772727,\n",
              "       492.33333333, 109.54641026,  22.80066667, 236.688     ,\n",
              "         3.37103226, 190.04392857,   3.37103226, 493.69      ,\n",
              "       492.33333333,  33.10741379, 134.96181818, 109.54641026,\n",
              "        15.12029412, 109.54641026, 377.16346154,   3.37103226,\n",
              "       286.2       ,  37.76387097, 318.148125  ,  33.10741379,\n",
              "       492.33333333, 122.05285714,  28.08176471, 318.148125  ,\n",
              "        22.80066667, 109.54641026,   3.37103226, 109.54641026,\n",
              "       109.54641026,  20.72680556,   3.37103226,  15.12029412,\n",
              "       266.94625   ,  51.5       , 279.16777778, 266.94625   ,\n",
              "       254.37148148, 109.54641026,   3.37103226, 190.04392857,\n",
              "       413.98235294, 279.16777778, 266.94625   , 318.148125  ,\n",
              "         3.37103226, 266.94625   , 109.54641026, 333.0935    ,\n",
              "         3.37103226,  20.72680556,   3.37103226,  33.10741379,\n",
              "         3.37103226, 109.54641026, 109.54641026, 377.16346154,\n",
              "       696.50051282, 518.39      ,  15.12029412,  20.72680556,\n",
              "       279.16777778,  15.12029412, 254.37148148, 109.54641026,\n",
              "       602.80142857,  20.72680556, 492.33333333, 318.148125  ,\n",
              "       137.95666667, 109.54641026,   3.37103226,   3.37103226,\n",
              "       131.20909091,   3.37103226,  33.10741379,  15.12029412,\n",
              "       283.94657143, 190.04392857, 131.20909091,  15.12029412,\n",
              "         3.37103226,  51.5       , 492.33333333, 696.50051282,\n",
              "       131.20909091, 283.94657143, 254.37148148, 413.98235294,\n",
              "       109.54641026, 101.00176471,   3.37103226, 696.50051282,\n",
              "       266.94625   , 137.95666667,   3.37103226,  98.445     ,\n",
              "        20.72680556,  22.80066667,   3.37103226,  33.10741379,\n",
              "        33.10741379, 254.37148148,  33.10741379, 333.0935    ,\n",
              "       377.16346154, 109.54641026, 190.04392857,  69.00772727,\n",
              "        99.40636364,  20.72680556, 377.16346154, 179.265     ,\n",
              "       333.0935    ,  33.10741379, 266.94625   , 190.04392857,\n",
              "       266.94625   , 696.50051282, 190.04392857, 696.50051282,\n",
              "       131.20909091,   3.37103226,  37.76387097, 333.0935    ,\n",
              "       236.688     , 266.94625   , 696.50051282, 109.54641026,\n",
              "       254.37148148,  20.72680556, 127.77181818,  33.10741379,\n",
              "       377.16346154,  69.00772727, 518.39      , 254.37148148,\n",
              "       127.77181818, 109.54641026, 109.54641026, 279.16777778,\n",
              "        22.80066667,   3.37103226, 318.148125  ,  15.12029412,\n",
              "       333.0935    , 109.54641026, 109.54641026, 492.33333333,\n",
              "       283.94657143, 109.54641026, 413.98235294,  28.08176471])"
            ]
          },
          "metadata": {},
          "execution_count": 36
        }
      ]
    },
    {
      "cell_type": "code",
      "source": [
        "#predictions on Unseen data\n",
        "new_predict_dtr = new_model.predict(df_p3_test_New_features)\n",
        "new_predict_dtr"
      ],
      "metadata": {
        "colab": {
          "base_uri": "https://localhost:8080/"
        },
        "id": "f5NJWq6b0pRP",
        "outputId": "9a30c96a-b5ac-494f-d994-36f0540c3ace"
      },
      "execution_count": 37,
      "outputs": [
        {
          "output_type": "execute_result",
          "data": {
            "text/plain": [
              "array([  3.37103226,  33.10741379, 696.50051282, ...,  28.08176471,\n",
              "        99.40636364, 220.54      ])"
            ]
          },
          "metadata": {},
          "execution_count": 37
        }
      ]
    },
    {
      "cell_type": "code",
      "source": [
        "# Mean square error of the DTR\n",
        "metrics.mean_squared_error(y_test, predictions)"
      ],
      "metadata": {
        "colab": {
          "base_uri": "https://localhost:8080/"
        },
        "id": "yKKZtYXq0pUH",
        "outputId": "eabe23d5-6098-432f-8c7b-eb81b6105c1d"
      },
      "execution_count": 38,
      "outputs": [
        {
          "output_type": "execute_result",
          "data": {
            "text/plain": [
              "19800.329276409037"
            ]
          },
          "metadata": {},
          "execution_count": 38
        }
      ]
    },
    {
      "cell_type": "code",
      "source": [
        "# Transfering the prediction data to test csv file.\n",
        "\n",
        "data_p3_test['Target'] = lm_predictions\n",
        "data_p3_test.to_csv('/content/CE802_P3_Test.csv')"
      ],
      "metadata": {
        "id": "O16jvu5609qA"
      },
      "execution_count": 39,
      "outputs": []
    },
    {
      "cell_type": "code",
      "source": [
        "data_p3_test.head()"
      ],
      "metadata": {
        "colab": {
          "base_uri": "https://localhost:8080/",
          "height": 317
        },
        "id": "V16kFhEV09yP",
        "outputId": "bde60be2-1030-49cb-d814-1d7518d2b33d"
      },
      "execution_count": 41,
      "outputs": [
        {
          "output_type": "execute_result",
          "data": {
            "text/plain": [
              "     F1      F2       F3      F4      F5      F6       F7      F8     F9  \\\n",
              "0  6.68   86.02  1995.28  148.00  853.52  Europe -1048.23 -969.14 -26.56   \n",
              "1  3.86   44.75  2124.64    0.58  254.96  Europe -1352.21 -713.96 -21.76   \n",
              "2 -0.84   95.33  2234.09    1.14  759.92     USA -1883.28  304.16 -26.58   \n",
              "3  3.34  100.87  1627.78    0.58  773.36    Rest  -114.23   32.26 -25.22   \n",
              "4 -1.32  100.36  1924.03    0.02  204.38  Europe -1154.37 -948.02 -36.58   \n",
              "\n",
              "         F10  ...    F26    F27    F28       F29      F30    F31     F32  \\\n",
              "0  Very high  ...  39.15  65.01 -22.62  62241.18  1089.14  14.73 -191.24   \n",
              "1        Low  ...  51.90  39.03  -8.60  51324.96   604.73  12.06 -154.74   \n",
              "2       High  ...  55.62  62.37 -12.14  68439.00   916.11   5.76 -105.98   \n",
              "3        Low  ...  60.66  61.47  -9.44  24517.71   576.57   8.73  -24.82   \n",
              "4       High  ...  52.62  45.06 -21.16  51155.01   897.53  11.22  -92.04   \n",
              "\n",
              "       F33    F34      Target  \n",
              "0  1523.73 -14.81  -57.316600  \n",
              "1 -1892.31 -39.83   27.437100  \n",
              "2  -884.82  73.85  488.903937  \n",
              "3  -424.65   6.99  203.715318  \n",
              "4 -1446.90  12.78   14.721468  \n",
              "\n",
              "[5 rows x 35 columns]"
            ],
            "text/html": [
              "\n",
              "  <div id=\"df-be1ff1fe-6137-43a8-a204-a0a7a888f7b4\">\n",
              "    <div class=\"colab-df-container\">\n",
              "      <div>\n",
              "<style scoped>\n",
              "    .dataframe tbody tr th:only-of-type {\n",
              "        vertical-align: middle;\n",
              "    }\n",
              "\n",
              "    .dataframe tbody tr th {\n",
              "        vertical-align: top;\n",
              "    }\n",
              "\n",
              "    .dataframe thead th {\n",
              "        text-align: right;\n",
              "    }\n",
              "</style>\n",
              "<table border=\"1\" class=\"dataframe\">\n",
              "  <thead>\n",
              "    <tr style=\"text-align: right;\">\n",
              "      <th></th>\n",
              "      <th>F1</th>\n",
              "      <th>F2</th>\n",
              "      <th>F3</th>\n",
              "      <th>F4</th>\n",
              "      <th>F5</th>\n",
              "      <th>F6</th>\n",
              "      <th>F7</th>\n",
              "      <th>F8</th>\n",
              "      <th>F9</th>\n",
              "      <th>F10</th>\n",
              "      <th>...</th>\n",
              "      <th>F26</th>\n",
              "      <th>F27</th>\n",
              "      <th>F28</th>\n",
              "      <th>F29</th>\n",
              "      <th>F30</th>\n",
              "      <th>F31</th>\n",
              "      <th>F32</th>\n",
              "      <th>F33</th>\n",
              "      <th>F34</th>\n",
              "      <th>Target</th>\n",
              "    </tr>\n",
              "  </thead>\n",
              "  <tbody>\n",
              "    <tr>\n",
              "      <th>0</th>\n",
              "      <td>6.68</td>\n",
              "      <td>86.02</td>\n",
              "      <td>1995.28</td>\n",
              "      <td>148.00</td>\n",
              "      <td>853.52</td>\n",
              "      <td>Europe</td>\n",
              "      <td>-1048.23</td>\n",
              "      <td>-969.14</td>\n",
              "      <td>-26.56</td>\n",
              "      <td>Very high</td>\n",
              "      <td>...</td>\n",
              "      <td>39.15</td>\n",
              "      <td>65.01</td>\n",
              "      <td>-22.62</td>\n",
              "      <td>62241.18</td>\n",
              "      <td>1089.14</td>\n",
              "      <td>14.73</td>\n",
              "      <td>-191.24</td>\n",
              "      <td>1523.73</td>\n",
              "      <td>-14.81</td>\n",
              "      <td>-57.316600</td>\n",
              "    </tr>\n",
              "    <tr>\n",
              "      <th>1</th>\n",
              "      <td>3.86</td>\n",
              "      <td>44.75</td>\n",
              "      <td>2124.64</td>\n",
              "      <td>0.58</td>\n",
              "      <td>254.96</td>\n",
              "      <td>Europe</td>\n",
              "      <td>-1352.21</td>\n",
              "      <td>-713.96</td>\n",
              "      <td>-21.76</td>\n",
              "      <td>Low</td>\n",
              "      <td>...</td>\n",
              "      <td>51.90</td>\n",
              "      <td>39.03</td>\n",
              "      <td>-8.60</td>\n",
              "      <td>51324.96</td>\n",
              "      <td>604.73</td>\n",
              "      <td>12.06</td>\n",
              "      <td>-154.74</td>\n",
              "      <td>-1892.31</td>\n",
              "      <td>-39.83</td>\n",
              "      <td>27.437100</td>\n",
              "    </tr>\n",
              "    <tr>\n",
              "      <th>2</th>\n",
              "      <td>-0.84</td>\n",
              "      <td>95.33</td>\n",
              "      <td>2234.09</td>\n",
              "      <td>1.14</td>\n",
              "      <td>759.92</td>\n",
              "      <td>USA</td>\n",
              "      <td>-1883.28</td>\n",
              "      <td>304.16</td>\n",
              "      <td>-26.58</td>\n",
              "      <td>High</td>\n",
              "      <td>...</td>\n",
              "      <td>55.62</td>\n",
              "      <td>62.37</td>\n",
              "      <td>-12.14</td>\n",
              "      <td>68439.00</td>\n",
              "      <td>916.11</td>\n",
              "      <td>5.76</td>\n",
              "      <td>-105.98</td>\n",
              "      <td>-884.82</td>\n",
              "      <td>73.85</td>\n",
              "      <td>488.903937</td>\n",
              "    </tr>\n",
              "    <tr>\n",
              "      <th>3</th>\n",
              "      <td>3.34</td>\n",
              "      <td>100.87</td>\n",
              "      <td>1627.78</td>\n",
              "      <td>0.58</td>\n",
              "      <td>773.36</td>\n",
              "      <td>Rest</td>\n",
              "      <td>-114.23</td>\n",
              "      <td>32.26</td>\n",
              "      <td>-25.22</td>\n",
              "      <td>Low</td>\n",
              "      <td>...</td>\n",
              "      <td>60.66</td>\n",
              "      <td>61.47</td>\n",
              "      <td>-9.44</td>\n",
              "      <td>24517.71</td>\n",
              "      <td>576.57</td>\n",
              "      <td>8.73</td>\n",
              "      <td>-24.82</td>\n",
              "      <td>-424.65</td>\n",
              "      <td>6.99</td>\n",
              "      <td>203.715318</td>\n",
              "    </tr>\n",
              "    <tr>\n",
              "      <th>4</th>\n",
              "      <td>-1.32</td>\n",
              "      <td>100.36</td>\n",
              "      <td>1924.03</td>\n",
              "      <td>0.02</td>\n",
              "      <td>204.38</td>\n",
              "      <td>Europe</td>\n",
              "      <td>-1154.37</td>\n",
              "      <td>-948.02</td>\n",
              "      <td>-36.58</td>\n",
              "      <td>High</td>\n",
              "      <td>...</td>\n",
              "      <td>52.62</td>\n",
              "      <td>45.06</td>\n",
              "      <td>-21.16</td>\n",
              "      <td>51155.01</td>\n",
              "      <td>897.53</td>\n",
              "      <td>11.22</td>\n",
              "      <td>-92.04</td>\n",
              "      <td>-1446.90</td>\n",
              "      <td>12.78</td>\n",
              "      <td>14.721468</td>\n",
              "    </tr>\n",
              "  </tbody>\n",
              "</table>\n",
              "<p>5 rows × 35 columns</p>\n",
              "</div>\n",
              "      <button class=\"colab-df-convert\" onclick=\"convertToInteractive('df-be1ff1fe-6137-43a8-a204-a0a7a888f7b4')\"\n",
              "              title=\"Convert this dataframe to an interactive table.\"\n",
              "              style=\"display:none;\">\n",
              "        \n",
              "  <svg xmlns=\"http://www.w3.org/2000/svg\" height=\"24px\"viewBox=\"0 0 24 24\"\n",
              "       width=\"24px\">\n",
              "    <path d=\"M0 0h24v24H0V0z\" fill=\"none\"/>\n",
              "    <path d=\"M18.56 5.44l.94 2.06.94-2.06 2.06-.94-2.06-.94-.94-2.06-.94 2.06-2.06.94zm-11 1L8.5 8.5l.94-2.06 2.06-.94-2.06-.94L8.5 2.5l-.94 2.06-2.06.94zm10 10l.94 2.06.94-2.06 2.06-.94-2.06-.94-.94-2.06-.94 2.06-2.06.94z\"/><path d=\"M17.41 7.96l-1.37-1.37c-.4-.4-.92-.59-1.43-.59-.52 0-1.04.2-1.43.59L10.3 9.45l-7.72 7.72c-.78.78-.78 2.05 0 2.83L4 21.41c.39.39.9.59 1.41.59.51 0 1.02-.2 1.41-.59l7.78-7.78 2.81-2.81c.8-.78.8-2.07 0-2.86zM5.41 20L4 18.59l7.72-7.72 1.47 1.35L5.41 20z\"/>\n",
              "  </svg>\n",
              "      </button>\n",
              "      \n",
              "  <style>\n",
              "    .colab-df-container {\n",
              "      display:flex;\n",
              "      flex-wrap:wrap;\n",
              "      gap: 12px;\n",
              "    }\n",
              "\n",
              "    .colab-df-convert {\n",
              "      background-color: #E8F0FE;\n",
              "      border: none;\n",
              "      border-radius: 50%;\n",
              "      cursor: pointer;\n",
              "      display: none;\n",
              "      fill: #1967D2;\n",
              "      height: 32px;\n",
              "      padding: 0 0 0 0;\n",
              "      width: 32px;\n",
              "    }\n",
              "\n",
              "    .colab-df-convert:hover {\n",
              "      background-color: #E2EBFA;\n",
              "      box-shadow: 0px 1px 2px rgba(60, 64, 67, 0.3), 0px 1px 3px 1px rgba(60, 64, 67, 0.15);\n",
              "      fill: #174EA6;\n",
              "    }\n",
              "\n",
              "    [theme=dark] .colab-df-convert {\n",
              "      background-color: #3B4455;\n",
              "      fill: #D2E3FC;\n",
              "    }\n",
              "\n",
              "    [theme=dark] .colab-df-convert:hover {\n",
              "      background-color: #434B5C;\n",
              "      box-shadow: 0px 1px 3px 1px rgba(0, 0, 0, 0.15);\n",
              "      filter: drop-shadow(0px 1px 2px rgba(0, 0, 0, 0.3));\n",
              "      fill: #FFFFFF;\n",
              "    }\n",
              "  </style>\n",
              "\n",
              "      <script>\n",
              "        const buttonEl =\n",
              "          document.querySelector('#df-be1ff1fe-6137-43a8-a204-a0a7a888f7b4 button.colab-df-convert');\n",
              "        buttonEl.style.display =\n",
              "          google.colab.kernel.accessAllowed ? 'block' : 'none';\n",
              "\n",
              "        async function convertToInteractive(key) {\n",
              "          const element = document.querySelector('#df-be1ff1fe-6137-43a8-a204-a0a7a888f7b4');\n",
              "          const dataTable =\n",
              "            await google.colab.kernel.invokeFunction('convertToInteractive',\n",
              "                                                     [key], {});\n",
              "          if (!dataTable) return;\n",
              "\n",
              "          const docLinkHtml = 'Like what you see? Visit the ' +\n",
              "            '<a target=\"_blank\" href=https://colab.research.google.com/notebooks/data_table.ipynb>data table notebook</a>'\n",
              "            + ' to learn more about interactive tables.';\n",
              "          element.innerHTML = '';\n",
              "          dataTable['output_type'] = 'display_data';\n",
              "          await google.colab.output.renderOutput(dataTable, element);\n",
              "          const docLink = document.createElement('div');\n",
              "          docLink.innerHTML = docLinkHtml;\n",
              "          element.appendChild(docLink);\n",
              "        }\n",
              "      </script>\n",
              "    </div>\n",
              "  </div>\n",
              "  "
            ]
          },
          "metadata": {},
          "execution_count": 41
        }
      ]
    },
    {
      "cell_type": "code",
      "source": [],
      "metadata": {
        "id": "SRtgrHXX0903"
      },
      "execution_count": null,
      "outputs": []
    }
  ]
}